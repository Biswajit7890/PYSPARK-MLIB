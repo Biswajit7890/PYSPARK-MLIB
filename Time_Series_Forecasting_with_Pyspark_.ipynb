{
  "nbformat": 4,
  "nbformat_minor": 0,
  "metadata": {
    "colab": {
      "name": "Time Series  Forecasting with Pyspark .ipynb",
      "provenance": [],
      "collapsed_sections": []
    },
    "kernelspec": {
      "name": "python3",
      "display_name": "Python 3"
    },
    "language_info": {
      "name": "python"
    }
  },
  "cells": [
    {
      "cell_type": "code",
      "metadata": {
        "id": "cX-eyZJ9lGXT"
      },
      "source": [
        "from pyspark.sql.types import *\n",
        "from pyspark.sql import SparkSession\n",
        "from pyspark.sql import Window\n",
        "from pyspark.sql.functions import udf\n",
        "from pyspark.sql import functions as F\n",
        "from pyspark.ml.linalg import Vectors, VectorUDT\n",
        "import numpy as np\n",
        "from pyspark.ml import Pipeline\n",
        "from pyspark.ml.feature import PCA\n",
        "from pyspark.ml.feature import StringIndexer, OneHotEncoder, VectorAssembler, Imputer\n",
        "from pyspark.ml.tuning import ParamGridBuilder, CrossValidator\n",
        "from pyspark.ml.evaluation import RegressionEvaluator\n",
        "from pyspark.ml.regression import *\n"
      ],
      "execution_count": 9,
      "outputs": []
    },
    {
      "cell_type": "code",
      "metadata": {
        "colab": {
          "base_uri": "https://localhost:8080/"
        },
        "id": "POf6NF-0z_jS",
        "outputId": "8507e001-e8d2-49df-a4ee-1daa373b0389"
      },
      "source": [
        "from pyspark.sql import SparkSession\n",
        "\n",
        "spark = SparkSession.builder.appName('Time Series').getOrCreate()\n",
        "df = spark.read.csv('/content/train.csv', header = True, inferSchema = True)\n",
        "df.printSchema()"
      ],
      "execution_count": 38,
      "outputs": [
        {
          "output_type": "stream",
          "text": [
            "root\n",
            " |-- date: string (nullable = true)\n",
            " |-- store: integer (nullable = true)\n",
            " |-- item: integer (nullable = true)\n",
            " |-- sales: integer (nullable = true)\n",
            "\n"
          ],
          "name": "stdout"
        }
      ]
    },
    {
      "cell_type": "code",
      "metadata": {
        "id": "TCrRFM0Q1hq7"
      },
      "source": [
        "schema = StructType([\n",
        "StructField(\"date\", DateType()),\n",
        "StructField(\"store\", IntegerType()),\n",
        "StructField(\"item\", IntegerType()),\n",
        "StructField(\"sales\", IntegerType())])\n",
        "\n"
      ],
      "execution_count": 39,
      "outputs": []
    },
    {
      "cell_type": "code",
      "metadata": {
        "id": "GErIelqgzz-S"
      },
      "source": [
        "df = (df.withColumn('yearday', F.dayofyear(F.col(\"date\"))).withColumn('year', F.year(F.col('date'))))\n"
      ],
      "execution_count": 40,
      "outputs": []
    },
    {
      "cell_type": "code",
      "metadata": {
        "id": "YaWFhtdJ9udn"
      },
      "source": [
        "from pyspark.mllib.linalg import SparseVector, DenseVector"
      ],
      "execution_count": 41,
      "outputs": []
    },
    {
      "cell_type": "code",
      "metadata": {
        "colab": {
          "base_uri": "https://localhost:8080/"
        },
        "id": "qdDvZd9ilkpr",
        "outputId": "c4088530-550d-4e56-aaf1-0badcba67836"
      },
      "source": [
        "df_final=df.toPandas()\n",
        "df_final.nunique()"
      ],
      "execution_count": 42,
      "outputs": [
        {
          "output_type": "execute_result",
          "data": {
            "text/plain": [
              "date       1826\n",
              "store        10\n",
              "item         50\n",
              "sales       213\n",
              "yearday     366\n",
              "year          5\n",
              "dtype: int64"
            ]
          },
          "metadata": {
            "tags": []
          },
          "execution_count": 42
        }
      ]
    },
    {
      "cell_type": "code",
      "metadata": {
        "id": "lGF9ifFSlks4"
      },
      "source": [
        "numeric_col= [\"sales\"]"
      ],
      "execution_count": 43,
      "outputs": []
    },
    {
      "cell_type": "code",
      "metadata": {
        "id": "T2WLk2R4lkzk"
      },
      "source": [
        "imputer = Imputer(inputCols=numeric_col, outputCols=[\"{}_imputed\".format(c) for c in numeric_col])\n"
      ],
      "execution_count": 44,
      "outputs": []
    },
    {
      "cell_type": "code",
      "metadata": {
        "id": "khd97Pc1lk28"
      },
      "source": [
        "categorical_col= [\"store\", \"item\",\"year\"]\n",
        "indexers = [StringIndexer(inputCol=c, outputCol=\"{0}_indexedd\".format(c), handleInvalid = 'skip') for c in categorical_col]"
      ],
      "execution_count": 45,
      "outputs": []
    },
    {
      "cell_type": "code",
      "metadata": {
        "id": "kQEM1cuhlk6a"
      },
      "source": [
        "encoders = [OneHotEncoder(dropLast=True,inputCol=indexer.getOutputCol(),outputCol=\"{0}_encodedd\".format(indexer.getOutputCol())) for indexer in indexers]"
      ],
      "execution_count": 46,
      "outputs": []
    },
    {
      "cell_type": "code",
      "metadata": {
        "id": "J45UCLpMlk90"
      },
      "source": [
        "assembler = VectorAssembler(inputCols= [encoder.getOutputCol() for encoder in encoders] + \\\n",
        " [x +'_imputed' for x in numeric_col] + ['yearday'],\n",
        "  outputCol=\"Features\")\n"
      ],
      "execution_count": 52,
      "outputs": []
    },
    {
      "cell_type": "code",
      "metadata": {
        "id": "N9iSNS8UllBA"
      },
      "source": [
        "pca = PCA(k=2, inputCol=\"Features\", outputCol=\"pcaFeatures\")"
      ],
      "execution_count": 53,
      "outputs": []
    },
    {
      "cell_type": "code",
      "metadata": {
        "id": "x8S00ygPllEY"
      },
      "source": [
        "pipeline = Pipeline(stages =[imputer] + indexers + encoders +  [assembler]+ [pca])"
      ],
      "execution_count": 54,
      "outputs": []
    },
    {
      "cell_type": "code",
      "metadata": {
        "id": "8I5-l_TLllHx"
      },
      "source": [
        "model= pipeline.fit(df)\n",
        "final_dataset = model.transform(df)\n"
      ],
      "execution_count": 55,
      "outputs": []
    },
    {
      "cell_type": "code",
      "metadata": {
        "id": "DikPcp3bllK5"
      },
      "source": [
        "target = 'sales'"
      ],
      "execution_count": 56,
      "outputs": []
    },
    {
      "cell_type": "code",
      "metadata": {
        "id": "foZHEpCTllOB"
      },
      "source": [
        "gbt = GBTRegressor(featuresCol = 'Features', labelCol=target)\n",
        "dt = DecisionTreeRegressor(featuresCol = 'Features', labelCol=target)\n",
        "lr = LinearRegression(featuresCol = 'Features', labelCol=target)"
      ],
      "execution_count": 63,
      "outputs": []
    },
    {
      "cell_type": "code",
      "metadata": {
        "colab": {
          "base_uri": "https://localhost:8080/"
        },
        "id": "K33A57pqllRh",
        "outputId": "44c19b93-9795-4fb9-926d-7ed0b5e27f07"
      },
      "source": [
        "final_dataset.groupBy(\"year\").count().show(truncate=False)"
      ],
      "execution_count": 75,
      "outputs": [
        {
          "output_type": "stream",
          "text": [
            "+----+------+\n",
            "|year|count |\n",
            "+----+------+\n",
            "|2015|182500|\n",
            "|2013|182500|\n",
            "|2014|182500|\n",
            "|2016|183000|\n",
            "|2017|182500|\n",
            "+----+------+\n",
            "\n"
          ],
          "name": "stdout"
        }
      ]
    },
    {
      "cell_type": "code",
      "metadata": {
        "id": "5b5Y6GOzllUe"
      },
      "source": [
        "X_train = (final_dataset.filter(F.col('date').between(\"2013-01-01\", \"2016-06-01\"))\n",
        "    .withColumn(target, F.log1p(F.col(target)))\n",
        "    )\n",
        "\n",
        "X_test = (final_dataset.filter(F.col('DATE') > \"2016-06-01\")\n",
        "    .withColumn(target, F.log1p(F.col(target))))"
      ],
      "execution_count": 76,
      "outputs": []
    },
    {
      "cell_type": "code",
      "metadata": {
        "id": "itpcTLJ0llXW"
      },
      "source": [
        "fitted = gbt.fit(X_train)"
      ],
      "execution_count": 77,
      "outputs": []
    },
    {
      "cell_type": "code",
      "metadata": {
        "colab": {
          "base_uri": "https://localhost:8080/"
        },
        "id": "t3hkIbdFQid6",
        "outputId": "c0376e84-604c-43c6-8473-3403d9435bc3"
      },
      "source": [
        "X_test.show()"
      ],
      "execution_count": 78,
      "outputs": [
        {
          "output_type": "stream",
          "text": [
            "+----------+-----+----+------------------+-------+----+-------------+--------------+-------------+-------------+-----------------------+----------------------+----------------------+--------------------+--------------------+\n",
            "|      date|store|item|             sales|yearday|year|sales_imputed|store_indexedd|item_indexedd|year_indexedd|store_indexedd_encodedd|item_indexedd_encodedd|year_indexedd_encodedd|            Features|         pcaFeatures|\n",
            "+----------+-----+----+------------------+-------+----+-------------+--------------+-------------+-------------+-----------------------+----------------------+----------------------+--------------------+--------------------+\n",
            "|2016-06-02|    1|   1| 3.258096538021482|    154|2016|           25|           0.0|          0.0|          0.0|          (9,[0],[1.0])|        (49,[0],[1.0])|         (4,[0],[1.0])|(64,[0,9,58,62,63...|[154.586738440685...|\n",
            "|2016-06-03|    1|   1|3.6635616461296463|    155|2016|           38|           0.0|          0.0|          0.0|          (9,[0],[1.0])|        (49,[0],[1.0])|         (4,[0],[1.0])|(64,[0,9,58,62,63...|[155.917487954290...|\n",
            "|2016-06-04|    1|   1| 3.367295829986474|    156|2016|           28|           0.0|          0.0|          0.0|          (9,[0],[1.0])|        (49,[0],[1.0])|         (4,[0],[1.0])|(64,[0,9,58,62,63...|[156.662491415044...|\n",
            "|2016-06-05|    1|   1|  3.58351893845611|    157|2016|           35|           0.0|          0.0|          0.0|          (9,[0],[1.0])|        (49,[0],[1.0])|         (4,[0],[1.0])|(64,[0,9,58,62,63...|[157.840437610513...|\n",
            "|2016-06-06|    1|   1|3.1780538303479458|    158|2016|           23|           0.0|          0.0|          0.0|          (9,[0],[1.0])|        (49,[0],[1.0])|         (4,[0],[1.0])|(64,[0,9,58,62,63...|[158.534506631889...|\n",
            "|2016-06-07|    1|   1|3.1354942159291497|    159|2016|           22|           0.0|          0.0|          0.0|          (9,[0],[1.0])|        (49,[0],[1.0])|         (4,[0],[1.0])|(64,[0,9,58,62,63...|[159.508715069845...|\n",
            "|2016-06-08|    1|   1|3.1354942159291497|    160|2016|           22|           0.0|          0.0|          0.0|          (9,[0],[1.0])|        (49,[0],[1.0])|         (4,[0],[1.0])|(64,[0,9,58,62,63...|[160.508390727491...|\n",
            "|2016-06-09|    1|   1|3.2188758248682006|    161|2016|           24|           0.0|          0.0|          0.0|          (9,[0],[1.0])|        (49,[0],[1.0])|         (4,[0],[1.0])|(64,[0,9,58,62,63...|[161.559000824515...|\n",
            "|2016-06-10|    1|   1|3.5553480614894135|    162|2016|           34|           0.0|          0.0|          0.0|          (9,[0],[1.0])|        (49,[0],[1.0])|         (4,[0],[1.0])|(64,[0,9,58,62,63...|[162.813348679052...|\n",
            "|2016-06-11|    1|   1|3.4657359027997265|    163|2016|           31|           0.0|          0.0|          0.0|          (9,[0],[1.0])|        (49,[0],[1.0])|         (4,[0],[1.0])|(64,[0,9,58,62,63...|[163.736622677630...|\n",
            "|2016-06-12|    1|   1|3.1354942159291497|    164|2016|           22|           0.0|          0.0|          0.0|          (9,[0],[1.0])|        (49,[0],[1.0])|         (4,[0],[1.0])|(64,[0,9,58,62,63...|[164.507093358073...|\n",
            "|2016-06-13|    1|   1|3.1354942159291497|    165|2016|           22|           0.0|          0.0|          0.0|          (9,[0],[1.0])|        (49,[0],[1.0])|         (4,[0],[1.0])|(64,[0,9,58,62,63...|[165.506769015719...|\n",
            "|2016-06-14|    1|   1| 3.258096538021482|    166|2016|           25|           0.0|          0.0|          0.0|          (9,[0],[1.0])|        (49,[0],[1.0])|         (4,[0],[1.0])|(64,[0,9,58,62,63...|[166.582846332432...|\n",
            "|2016-06-15|    1|   1|3.1354942159291497|    167|2016|           22|           0.0|          0.0|          0.0|          (9,[0],[1.0])|        (49,[0],[1.0])|         (4,[0],[1.0])|(64,[0,9,58,62,63...|[167.506120331010...|\n",
            "|2016-06-16|    1|   1|3.4339872044851463|    168|2016|           30|           0.0|          0.0|          0.0|          (9,[0],[1.0])|        (49,[0],[1.0])|         (4,[0],[1.0])|(64,[0,9,58,62,63...|[168.709533746169...|\n",
            "|2016-06-17|    1|   1|3.1354942159291497|    169|2016|           22|           0.0|          0.0|          0.0|          (9,[0],[1.0])|        (49,[0],[1.0])|         (4,[0],[1.0])|(64,[0,9,58,62,63...|[169.505471646301...|\n",
            "|2016-06-18|    1|   1| 3.332204510175204|    170|2016|           27|           0.0|          0.0|          0.0|          (9,[0],[1.0])|        (49,[0],[1.0])|         (4,[0],[1.0])|(64,[0,9,58,62,63...|[170.632483402393...|\n",
            "|2016-06-19|    1|   1| 3.367295829986474|    171|2016|           28|           0.0|          0.0|          0.0|          (9,[0],[1.0])|        (49,[0],[1.0])|         (4,[0],[1.0])|(64,[0,9,58,62,63...|[171.657626279728...|\n",
            "|2016-06-20|    1|   1| 2.772588722239781|    172|2016|           15|           0.0|          0.0|          0.0|          (9,[0],[1.0])|        (49,[0],[1.0])|         (4,[0],[1.0])|(64,[0,9,58,62,63...|[172.326228081414...|\n",
            "|2016-06-21|    1|   1| 3.258096538021482|    173|2016|           25|           0.0|          0.0|          0.0|          (9,[0],[1.0])|        (49,[0],[1.0])|         (4,[0],[1.0])|(64,[0,9,58,62,63...|[173.580575935951...|\n",
            "+----------+-----+----+------------------+-------+----+-------------+--------------+-------------+-------------+-----------------------+----------------------+----------------------+--------------------+--------------------+\n",
            "only showing top 20 rows\n",
            "\n"
          ],
          "name": "stdout"
        }
      ]
    },
    {
      "cell_type": "code",
      "metadata": {
        "id": "M7_tUDd7llaZ"
      },
      "source": [
        "yhat = (fitted.transform(X_test).withColumn(\"prediction\", F.expm1(F.col(\"prediction\"))).withColumn(target, F.expm1(F.col(target))))"
      ],
      "execution_count": 79,
      "outputs": []
    },
    {
      "cell_type": "code",
      "metadata": {
        "colab": {
          "base_uri": "https://localhost:8080/"
        },
        "id": "zSck4ooyQUtK",
        "outputId": "0ecd330b-4997-4877-c8bb-82a5389bfe39"
      },
      "source": [
        "yhat.show()"
      ],
      "execution_count": 80,
      "outputs": [
        {
          "output_type": "stream",
          "text": [
            "+----------+-----+----+------------------+-------+----+-------------+--------------+-------------+-------------+-----------------------+----------------------+----------------------+--------------------+--------------------+------------------+\n",
            "|      date|store|item|             sales|yearday|year|sales_imputed|store_indexedd|item_indexedd|year_indexedd|store_indexedd_encodedd|item_indexedd_encodedd|year_indexedd_encodedd|            Features|         pcaFeatures|        prediction|\n",
            "+----------+-----+----+------------------+-------+----+-------------+--------------+-------------+-------------+-----------------------+----------------------+----------------------+--------------------+--------------------+------------------+\n",
            "|2016-06-02|    1|   1|25.000000000000004|    154|2016|           25|           0.0|          0.0|          0.0|          (9,[0],[1.0])|        (49,[0],[1.0])|         (4,[0],[1.0])|(64,[0,9,58,62,63...|[154.586738440685...| 25.49962830379753|\n",
            "|2016-06-03|    1|   1| 37.99999999999999|    155|2016|           38|           0.0|          0.0|          0.0|          (9,[0],[1.0])|        (49,[0],[1.0])|         (4,[0],[1.0])|(64,[0,9,58,62,63...|[155.917487954290...| 36.97604609293722|\n",
            "|2016-06-04|    1|   1|28.000000000000004|    156|2016|           28|           0.0|          0.0|          0.0|          (9,[0],[1.0])|        (49,[0],[1.0])|         (4,[0],[1.0])|(64,[0,9,58,62,63...|[156.662491415044...| 27.49599583097907|\n",
            "|2016-06-05|    1|   1|              35.0|    157|2016|           35|           0.0|          0.0|          0.0|          (9,[0],[1.0])|        (49,[0],[1.0])|         (4,[0],[1.0])|(64,[0,9,58,62,63...|[157.840437610513...| 34.48661090159512|\n",
            "|2016-06-06|    1|   1|23.000000000000004|    158|2016|           23|           0.0|          0.0|          0.0|          (9,[0],[1.0])|        (49,[0],[1.0])|         (4,[0],[1.0])|(64,[0,9,58,62,63...|[158.534506631889...|23.495203893344375|\n",
            "|2016-06-07|    1|   1|              22.0|    159|2016|           22|           0.0|          0.0|          0.0|          (9,[0],[1.0])|        (49,[0],[1.0])|         (4,[0],[1.0])|(64,[0,9,58,62,63...|[159.508715069845...|21.498936398990995|\n",
            "|2016-06-08|    1|   1|              22.0|    160|2016|           22|           0.0|          0.0|          0.0|          (9,[0],[1.0])|        (49,[0],[1.0])|         (4,[0],[1.0])|(64,[0,9,58,62,63...|[160.508390727491...|21.498936398990995|\n",
            "|2016-06-09|    1|   1|23.999999999999996|    161|2016|           24|           0.0|          0.0|          0.0|          (9,[0],[1.0])|        (49,[0],[1.0])|         (4,[0],[1.0])|(64,[0,9,58,62,63...|[161.559000824515...|23.495203893344375|\n",
            "|2016-06-10|    1|   1| 33.99999999999999|    162|2016|           34|           0.0|          0.0|          0.0|          (9,[0],[1.0])|        (49,[0],[1.0])|         (4,[0],[1.0])|(64,[0,9,58,62,63...|[162.813348679052...| 34.48661090159512|\n",
            "|2016-06-11|    1|   1|              31.0|    163|2016|           31|           0.0|          0.0|          0.0|          (9,[0],[1.0])|        (49,[0],[1.0])|         (4,[0],[1.0])|(64,[0,9,58,62,63...|[163.736622677630...|30.232850847008518|\n",
            "|2016-06-12|    1|   1|              22.0|    164|2016|           22|           0.0|          0.0|          0.0|          (9,[0],[1.0])|        (49,[0],[1.0])|         (4,[0],[1.0])|(64,[0,9,58,62,63...|[164.507093358073...|21.498936398990995|\n",
            "|2016-06-13|    1|   1|              22.0|    165|2016|           22|           0.0|          0.0|          0.0|          (9,[0],[1.0])|        (49,[0],[1.0])|         (4,[0],[1.0])|(64,[0,9,58,62,63...|[165.506769015719...|21.498936398990995|\n",
            "|2016-06-14|    1|   1|25.000000000000004|    166|2016|           25|           0.0|          0.0|          0.0|          (9,[0],[1.0])|        (49,[0],[1.0])|         (4,[0],[1.0])|(64,[0,9,58,62,63...|[166.582846332432...| 25.49962830379753|\n",
            "|2016-06-15|    1|   1|              22.0|    167|2016|           22|           0.0|          0.0|          0.0|          (9,[0],[1.0])|        (49,[0],[1.0])|         (4,[0],[1.0])|(64,[0,9,58,62,63...|[167.506120331010...|21.498936398990995|\n",
            "|2016-06-16|    1|   1|              30.0|    168|2016|           30|           0.0|          0.0|          0.0|          (9,[0],[1.0])|        (49,[0],[1.0])|         (4,[0],[1.0])|(64,[0,9,58,62,63...|[168.709533746169...|30.232850847008518|\n",
            "|2016-06-17|    1|   1|              22.0|    169|2016|           22|           0.0|          0.0|          0.0|          (9,[0],[1.0])|        (49,[0],[1.0])|         (4,[0],[1.0])|(64,[0,9,58,62,63...|[169.505471646301...|21.498936398990995|\n",
            "|2016-06-18|    1|   1|26.999999999999996|    170|2016|           27|           0.0|          0.0|          0.0|          (9,[0],[1.0])|        (49,[0],[1.0])|         (4,[0],[1.0])|(64,[0,9,58,62,63...|[170.632483402393...| 27.49599583097907|\n",
            "|2016-06-19|    1|   1|28.000000000000004|    171|2016|           28|           0.0|          0.0|          0.0|          (9,[0],[1.0])|        (49,[0],[1.0])|         (4,[0],[1.0])|(64,[0,9,58,62,63...|[171.657626279728...| 27.49599583097907|\n",
            "|2016-06-20|    1|   1|14.999999999999998|    172|2016|           15|           0.0|          0.0|          0.0|          (9,[0],[1.0])|        (49,[0],[1.0])|         (4,[0],[1.0])|(64,[0,9,58,62,63...|[172.326228081414...|14.088680787479086|\n",
            "|2016-06-21|    1|   1|25.000000000000004|    173|2016|           25|           0.0|          0.0|          0.0|          (9,[0],[1.0])|        (49,[0],[1.0])|         (4,[0],[1.0])|(64,[0,9,58,62,63...|[173.580575935951...| 25.49962830379753|\n",
            "+----------+-----+----+------------------+-------+----+-------------+--------------+-------------+-------------+-----------------------+----------------------+----------------------+--------------------+--------------------+------------------+\n",
            "only showing top 20 rows\n",
            "\n"
          ],
          "name": "stdout"
        }
      ]
    },
    {
      "cell_type": "code",
      "metadata": {
        "colab": {
          "base_uri": "https://localhost:8080/"
        },
        "id": "BVsw1XH6lldY",
        "outputId": "438f88fd-5b24-43e3-e1bd-9c69e152ba40"
      },
      "source": [
        "eval_ = RegressionEvaluator(labelCol= target, predictionCol= \"prediction\", metricName=\"rmse\")\n",
        "\n",
        "rmse = eval_.evaluate(yhat)\n",
        "\n",
        "print('rmse is %.2f' %rmse)\n",
        "\n",
        "mae = eval_.evaluate(yhat, {eval_.metricName: \"mae\"})\n",
        "print('mae is %.2f' %mae)\n",
        "\n",
        "r2 = eval_.evaluate(yhat, {eval_.metricName: \"r2\"})\n",
        "print('r2 is %.2f' %r2)\n"
      ],
      "execution_count": 81,
      "outputs": [
        {
          "output_type": "stream",
          "text": [
            "rmse is 4.78\n",
            "mae is 1.81\n",
            "r2 is 0.98\n"
          ],
          "name": "stdout"
        }
      ]
    },
    {
      "cell_type": "code",
      "metadata": {
        "id": "O-QAPeHmllgQ"
      },
      "source": [
        "from pyspark.ml.tuning import CrossValidator, ParamGridBuilder"
      ],
      "execution_count": 84,
      "outputs": []
    },
    {
      "cell_type": "code",
      "metadata": {
        "id": "lKNYAGWrS-Tb"
      },
      "source": [
        "paramGrid = (ParamGridBuilder()\n",
        "             .addGrid(gbt.maxDepth, [5, 8, 10, 12])\n",
        "             .addGrid(gbt.maxBins, [64])\n",
        "             .build())\n",
        "\n",
        "cv = CrossValidator(estimator=gbt,\n",
        "                          estimatorParamMaps=paramGrid,\n",
        "                          evaluator=eval_,\n",
        "                          numFolds=3)  \n",
        "cvModel = cv.fit(X_train)"
      ],
      "execution_count": 83,
      "outputs": []
    },
    {
      "cell_type": "code",
      "metadata": {
        "id": "s-J0rEtrS-Wr"
      },
      "source": [
        "yhat = (cvModel.transform(X_test)\n",
        "    .withColumn(\"prediction\", F.expm1(F.col(\"prediction\")))\n",
        "    .withColumn(target, F.expm1(F.col(target)))\n",
        "    )\n"
      ],
      "execution_count": 85,
      "outputs": []
    },
    {
      "cell_type": "code",
      "metadata": {
        "colab": {
          "base_uri": "https://localhost:8080/"
        },
        "id": "uzfS-VDDS-Z_",
        "outputId": "34b6b1fb-eb56-47fb-d97a-39a0a0d2914a"
      },
      "source": [
        "eval_ = RegressionEvaluator(labelCol= target, predictionCol= \"prediction\", metricName=\"rmse\")\n",
        "\n",
        "rmse = eval_.evaluate(yhat)\n",
        "\n",
        "print('rmse is %.2f' %rmse)\n",
        "\n",
        "mae = eval_.evaluate(yhat, {eval_.metricName: \"mae\"})\n",
        "print('mae is %.2f' %mae)\n",
        "\n",
        "r2 = eval_.evaluate(yhat, {eval_.metricName: \"r2\"})\n",
        "print('r2 is %.2f' %r2)\n",
        "\n",
        "\n",
        "fi = fitted.featureImportances.toArray()"
      ],
      "execution_count": 86,
      "outputs": [
        {
          "output_type": "stream",
          "text": [
            "rmse is 3.30\n",
            "mae is 0.91\n",
            "r2 is 0.99\n"
          ],
          "name": "stdout"
        }
      ]
    },
    {
      "cell_type": "code",
      "metadata": {
        "id": "Kf4JIrt4S-c4"
      },
      "source": [
        ""
      ],
      "execution_count": null,
      "outputs": []
    },
    {
      "cell_type": "code",
      "metadata": {
        "id": "8JTHPTd8S-ge"
      },
      "source": [
        ""
      ],
      "execution_count": null,
      "outputs": []
    },
    {
      "cell_type": "code",
      "metadata": {
        "id": "3eG2IO35S-iy"
      },
      "source": [
        ""
      ],
      "execution_count": null,
      "outputs": []
    }
  ]
}