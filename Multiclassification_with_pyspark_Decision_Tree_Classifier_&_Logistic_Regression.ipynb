{
  "nbformat": 4,
  "nbformat_minor": 0,
  "metadata": {
    "colab": {
      "name": "Multiclassification with pyspark  Decision Tree Classifier & Logistic Regression",
      "provenance": [],
      "collapsed_sections": []
    },
    "kernelspec": {
      "name": "python3",
      "display_name": "Python 3"
    },
    "language_info": {
      "name": "python"
    }
  },
  "cells": [
    {
      "cell_type": "code",
      "metadata": {
        "id": "Jaj0j0CNg_xb"
      },
      "source": [
        "import pandas as pd\n",
        "import numpy as np\n",
        "import matplotlib.pyplot as plt\n",
        "import seaborn as sns\n",
        "import warnings\n",
        "warnings.filterwarnings('ignore')"
      ],
      "execution_count": 1,
      "outputs": []
    },
    {
      "cell_type": "code",
      "metadata": {
        "colab": {
          "base_uri": "https://localhost:8080/"
        },
        "id": "K9OCrLyshAPV",
        "outputId": "a59b9a5e-8dfd-435c-f025-45ad7a255005"
      },
      "source": [
        "pip install pyspark "
      ],
      "execution_count": 2,
      "outputs": [
        {
          "output_type": "stream",
          "text": [
            "Collecting pyspark\n",
            "\u001b[?25l  Downloading https://files.pythonhosted.org/packages/45/b0/9d6860891ab14a39d4bddf80ba26ce51c2f9dc4805e5c6978ac0472c120a/pyspark-3.1.1.tar.gz (212.3MB)\n",
            "\u001b[K     |████████████████████████████████| 212.3MB 81kB/s \n",
            "\u001b[?25hCollecting py4j==0.10.9\n",
            "\u001b[?25l  Downloading https://files.pythonhosted.org/packages/9e/b6/6a4fb90cd235dc8e265a6a2067f2a2c99f0d91787f06aca4bcf7c23f3f80/py4j-0.10.9-py2.py3-none-any.whl (198kB)\n",
            "\u001b[K     |████████████████████████████████| 204kB 22.6MB/s \n",
            "\u001b[?25hBuilding wheels for collected packages: pyspark\n",
            "  Building wheel for pyspark (setup.py) ... \u001b[?25l\u001b[?25hdone\n",
            "  Created wheel for pyspark: filename=pyspark-3.1.1-py2.py3-none-any.whl size=212767604 sha256=e897226554875f63fbb4481c3acc3296fd710a0df24250529ae9115d69a80f56\n",
            "  Stored in directory: /root/.cache/pip/wheels/0b/90/c0/01de724414ef122bd05f056541fb6a0ecf47c7ca655f8b3c0f\n",
            "Successfully built pyspark\n",
            "Installing collected packages: py4j, pyspark\n",
            "Successfully installed py4j-0.10.9 pyspark-3.1.1\n"
          ],
          "name": "stdout"
        }
      ]
    },
    {
      "cell_type": "code",
      "metadata": {
        "colab": {
          "base_uri": "https://localhost:8080/"
        },
        "id": "Fe417VjLhASb",
        "outputId": "a17a4865-ba3a-4ef3-b8ad-4001abe12180"
      },
      "source": [
        "from pyspark.sql import SparkSession\n",
        "\n",
        "spark = SparkSession.builder.appName('Aggriculture').getOrCreate()\n",
        "df = spark.read.csv('train_yaOffsB.csv', header = True, inferSchema = True)\n",
        "df.printSchema()"
      ],
      "execution_count": 3,
      "outputs": [
        {
          "output_type": "stream",
          "text": [
            "root\n",
            " |-- ID: string (nullable = true)\n",
            " |-- Estimated_Insects_Count: integer (nullable = true)\n",
            " |-- Crop_Type: integer (nullable = true)\n",
            " |-- Soil_Type: integer (nullable = true)\n",
            " |-- Pesticide_Use_Category: integer (nullable = true)\n",
            " |-- Number_Doses_Week: integer (nullable = true)\n",
            " |-- Number_Weeks_Used: integer (nullable = true)\n",
            " |-- Number_Weeks_Quit: integer (nullable = true)\n",
            " |-- Season: integer (nullable = true)\n",
            " |-- Crop_Damage: integer (nullable = true)\n",
            "\n"
          ],
          "name": "stdout"
        }
      ]
    },
    {
      "cell_type": "code",
      "metadata": {
        "colab": {
          "base_uri": "https://localhost:8080/"
        },
        "id": "w6_ad3VJhAVc",
        "outputId": "c0b1da5c-f706-491b-9fcd-1120f5b76859"
      },
      "source": [
        "df.show(10)"
      ],
      "execution_count": 4,
      "outputs": [
        {
          "output_type": "stream",
          "text": [
            "+---------+-----------------------+---------+---------+----------------------+-----------------+-----------------+-----------------+------+-----------+\n",
            "|       ID|Estimated_Insects_Count|Crop_Type|Soil_Type|Pesticide_Use_Category|Number_Doses_Week|Number_Weeks_Used|Number_Weeks_Quit|Season|Crop_Damage|\n",
            "+---------+-----------------------+---------+---------+----------------------+-----------------+-----------------+-----------------+------+-----------+\n",
            "|F00000001|                    188|        1|        0|                     1|                0|                0|                0|     1|          0|\n",
            "|F00000003|                    209|        1|        0|                     1|                0|                0|                0|     2|          1|\n",
            "|F00000004|                    257|        1|        0|                     1|                0|                0|                0|     2|          1|\n",
            "|F00000005|                    257|        1|        1|                     1|                0|                0|                0|     2|          1|\n",
            "|F00000006|                    342|        1|        0|                     1|                0|                0|                0|     2|          1|\n",
            "|F00000008|                    448|        0|        1|                     1|                0|             null|                0|     2|          1|\n",
            "|F00000009|                    448|        0|        1|                     1|                0|             null|                0|     2|          1|\n",
            "|F00000010|                    577|        1|        0|                     1|                0|                0|                0|     1|          2|\n",
            "|F00000012|                    731|        0|        0|                     1|                0|                0|                0|     2|          0|\n",
            "|F00000020|                   1132|        1|        0|                     1|                0|                0|                0|     1|          2|\n",
            "+---------+-----------------------+---------+---------+----------------------+-----------------+-----------------+-----------------+------+-----------+\n",
            "only showing top 10 rows\n",
            "\n"
          ],
          "name": "stdout"
        }
      ]
    },
    {
      "cell_type": "code",
      "metadata": {
        "colab": {
          "base_uri": "https://localhost:8080/",
          "height": 347
        },
        "id": "4FpqV_3ghAYp",
        "outputId": "0c987e7c-8f49-4bdc-a72c-a6a9afaf9ceb"
      },
      "source": [
        "pd.DataFrame(df.take(5), columns=df.columns).transpose()"
      ],
      "execution_count": 5,
      "outputs": [
        {
          "output_type": "execute_result",
          "data": {
            "text/html": [
              "<div>\n",
              "<style scoped>\n",
              "    .dataframe tbody tr th:only-of-type {\n",
              "        vertical-align: middle;\n",
              "    }\n",
              "\n",
              "    .dataframe tbody tr th {\n",
              "        vertical-align: top;\n",
              "    }\n",
              "\n",
              "    .dataframe thead th {\n",
              "        text-align: right;\n",
              "    }\n",
              "</style>\n",
              "<table border=\"1\" class=\"dataframe\">\n",
              "  <thead>\n",
              "    <tr style=\"text-align: right;\">\n",
              "      <th></th>\n",
              "      <th>0</th>\n",
              "      <th>1</th>\n",
              "      <th>2</th>\n",
              "      <th>3</th>\n",
              "      <th>4</th>\n",
              "    </tr>\n",
              "  </thead>\n",
              "  <tbody>\n",
              "    <tr>\n",
              "      <th>ID</th>\n",
              "      <td>F00000001</td>\n",
              "      <td>F00000003</td>\n",
              "      <td>F00000004</td>\n",
              "      <td>F00000005</td>\n",
              "      <td>F00000006</td>\n",
              "    </tr>\n",
              "    <tr>\n",
              "      <th>Estimated_Insects_Count</th>\n",
              "      <td>188</td>\n",
              "      <td>209</td>\n",
              "      <td>257</td>\n",
              "      <td>257</td>\n",
              "      <td>342</td>\n",
              "    </tr>\n",
              "    <tr>\n",
              "      <th>Crop_Type</th>\n",
              "      <td>1</td>\n",
              "      <td>1</td>\n",
              "      <td>1</td>\n",
              "      <td>1</td>\n",
              "      <td>1</td>\n",
              "    </tr>\n",
              "    <tr>\n",
              "      <th>Soil_Type</th>\n",
              "      <td>0</td>\n",
              "      <td>0</td>\n",
              "      <td>0</td>\n",
              "      <td>1</td>\n",
              "      <td>0</td>\n",
              "    </tr>\n",
              "    <tr>\n",
              "      <th>Pesticide_Use_Category</th>\n",
              "      <td>1</td>\n",
              "      <td>1</td>\n",
              "      <td>1</td>\n",
              "      <td>1</td>\n",
              "      <td>1</td>\n",
              "    </tr>\n",
              "    <tr>\n",
              "      <th>Number_Doses_Week</th>\n",
              "      <td>0</td>\n",
              "      <td>0</td>\n",
              "      <td>0</td>\n",
              "      <td>0</td>\n",
              "      <td>0</td>\n",
              "    </tr>\n",
              "    <tr>\n",
              "      <th>Number_Weeks_Used</th>\n",
              "      <td>0</td>\n",
              "      <td>0</td>\n",
              "      <td>0</td>\n",
              "      <td>0</td>\n",
              "      <td>0</td>\n",
              "    </tr>\n",
              "    <tr>\n",
              "      <th>Number_Weeks_Quit</th>\n",
              "      <td>0</td>\n",
              "      <td>0</td>\n",
              "      <td>0</td>\n",
              "      <td>0</td>\n",
              "      <td>0</td>\n",
              "    </tr>\n",
              "    <tr>\n",
              "      <th>Season</th>\n",
              "      <td>1</td>\n",
              "      <td>2</td>\n",
              "      <td>2</td>\n",
              "      <td>2</td>\n",
              "      <td>2</td>\n",
              "    </tr>\n",
              "    <tr>\n",
              "      <th>Crop_Damage</th>\n",
              "      <td>0</td>\n",
              "      <td>1</td>\n",
              "      <td>1</td>\n",
              "      <td>1</td>\n",
              "      <td>1</td>\n",
              "    </tr>\n",
              "  </tbody>\n",
              "</table>\n",
              "</div>"
            ],
            "text/plain": [
              "                                 0          1          2          3          4\n",
              "ID                       F00000001  F00000003  F00000004  F00000005  F00000006\n",
              "Estimated_Insects_Count        188        209        257        257        342\n",
              "Crop_Type                        1          1          1          1          1\n",
              "Soil_Type                        0          0          0          1          0\n",
              "Pesticide_Use_Category           1          1          1          1          1\n",
              "Number_Doses_Week                0          0          0          0          0\n",
              "Number_Weeks_Used                0          0          0          0          0\n",
              "Number_Weeks_Quit                0          0          0          0          0\n",
              "Season                           1          2          2          2          2\n",
              "Crop_Damage                      0          1          1          1          1"
            ]
          },
          "metadata": {
            "tags": []
          },
          "execution_count": 5
        }
      ]
    },
    {
      "cell_type": "code",
      "metadata": {
        "colab": {
          "base_uri": "https://localhost:8080/"
        },
        "id": "SUr37s1Poj17",
        "outputId": "0948e464-ebaa-4b13-fd6d-a10dbe539a41"
      },
      "source": [
        "df.columns"
      ],
      "execution_count": 6,
      "outputs": [
        {
          "output_type": "execute_result",
          "data": {
            "text/plain": [
              "['ID',\n",
              " 'Estimated_Insects_Count',\n",
              " 'Crop_Type',\n",
              " 'Soil_Type',\n",
              " 'Pesticide_Use_Category',\n",
              " 'Number_Doses_Week',\n",
              " 'Number_Weeks_Used',\n",
              " 'Number_Weeks_Quit',\n",
              " 'Season',\n",
              " 'Crop_Damage']"
            ]
          },
          "metadata": {
            "tags": []
          },
          "execution_count": 6
        }
      ]
    },
    {
      "cell_type": "code",
      "metadata": {
        "colab": {
          "base_uri": "https://localhost:8080/",
          "height": 377
        },
        "id": "gw-V_EM7hAb3",
        "outputId": "98155e40-4bfb-41bd-9bbd-a7b01e323713"
      },
      "source": [
        "df.describe().toPandas().transpose()"
      ],
      "execution_count": 7,
      "outputs": [
        {
          "output_type": "execute_result",
          "data": {
            "text/html": [
              "<div>\n",
              "<style scoped>\n",
              "    .dataframe tbody tr th:only-of-type {\n",
              "        vertical-align: middle;\n",
              "    }\n",
              "\n",
              "    .dataframe tbody tr th {\n",
              "        vertical-align: top;\n",
              "    }\n",
              "\n",
              "    .dataframe thead th {\n",
              "        text-align: right;\n",
              "    }\n",
              "</style>\n",
              "<table border=\"1\" class=\"dataframe\">\n",
              "  <thead>\n",
              "    <tr style=\"text-align: right;\">\n",
              "      <th></th>\n",
              "      <th>0</th>\n",
              "      <th>1</th>\n",
              "      <th>2</th>\n",
              "      <th>3</th>\n",
              "      <th>4</th>\n",
              "    </tr>\n",
              "  </thead>\n",
              "  <tbody>\n",
              "    <tr>\n",
              "      <th>summary</th>\n",
              "      <td>count</td>\n",
              "      <td>mean</td>\n",
              "      <td>stddev</td>\n",
              "      <td>min</td>\n",
              "      <td>max</td>\n",
              "    </tr>\n",
              "    <tr>\n",
              "      <th>ID</th>\n",
              "      <td>88858</td>\n",
              "      <td>None</td>\n",
              "      <td>None</td>\n",
              "      <td>F00000001</td>\n",
              "      <td>F00155945</td>\n",
              "    </tr>\n",
              "    <tr>\n",
              "      <th>Estimated_Insects_Count</th>\n",
              "      <td>88858</td>\n",
              "      <td>1399.0122104931463</td>\n",
              "      <td>849.0487806668847</td>\n",
              "      <td>150</td>\n",
              "      <td>4097</td>\n",
              "    </tr>\n",
              "    <tr>\n",
              "      <th>Crop_Type</th>\n",
              "      <td>88858</td>\n",
              "      <td>0.2843750703369421</td>\n",
              "      <td>0.4511188091519747</td>\n",
              "      <td>0</td>\n",
              "      <td>1</td>\n",
              "    </tr>\n",
              "    <tr>\n",
              "      <th>Soil_Type</th>\n",
              "      <td>88858</td>\n",
              "      <td>0.4584167998379437</td>\n",
              "      <td>0.49827064083043343</td>\n",
              "      <td>0</td>\n",
              "      <td>1</td>\n",
              "    </tr>\n",
              "    <tr>\n",
              "      <th>Pesticide_Use_Category</th>\n",
              "      <td>88858</td>\n",
              "      <td>2.2641855544801817</td>\n",
              "      <td>0.46177158158329773</td>\n",
              "      <td>1</td>\n",
              "      <td>3</td>\n",
              "    </tr>\n",
              "    <tr>\n",
              "      <th>Number_Doses_Week</th>\n",
              "      <td>88858</td>\n",
              "      <td>25.849951608183844</td>\n",
              "      <td>15.554427765396934</td>\n",
              "      <td>0</td>\n",
              "      <td>95</td>\n",
              "    </tr>\n",
              "    <tr>\n",
              "      <th>Number_Weeks_Used</th>\n",
              "      <td>79858</td>\n",
              "      <td>28.62397004683313</td>\n",
              "      <td>12.391881462463685</td>\n",
              "      <td>0</td>\n",
              "      <td>67</td>\n",
              "    </tr>\n",
              "    <tr>\n",
              "      <th>Number_Weeks_Quit</th>\n",
              "      <td>88858</td>\n",
              "      <td>9.589986270228904</td>\n",
              "      <td>9.900631115271118</td>\n",
              "      <td>0</td>\n",
              "      <td>50</td>\n",
              "    </tr>\n",
              "    <tr>\n",
              "      <th>Season</th>\n",
              "      <td>88858</td>\n",
              "      <td>1.8969591933196785</td>\n",
              "      <td>0.701322132743697</td>\n",
              "      <td>1</td>\n",
              "      <td>3</td>\n",
              "    </tr>\n",
              "    <tr>\n",
              "      <th>Crop_Damage</th>\n",
              "      <td>88858</td>\n",
              "      <td>0.19056247045848432</td>\n",
              "      <td>0.45421506819556845</td>\n",
              "      <td>0</td>\n",
              "      <td>2</td>\n",
              "    </tr>\n",
              "  </tbody>\n",
              "</table>\n",
              "</div>"
            ],
            "text/plain": [
              "                             0                    1  ...          3          4\n",
              "summary                  count                 mean  ...        min        max\n",
              "ID                       88858                 None  ...  F00000001  F00155945\n",
              "Estimated_Insects_Count  88858   1399.0122104931463  ...        150       4097\n",
              "Crop_Type                88858   0.2843750703369421  ...          0          1\n",
              "Soil_Type                88858   0.4584167998379437  ...          0          1\n",
              "Pesticide_Use_Category   88858   2.2641855544801817  ...          1          3\n",
              "Number_Doses_Week        88858   25.849951608183844  ...          0         95\n",
              "Number_Weeks_Used        79858    28.62397004683313  ...          0         67\n",
              "Number_Weeks_Quit        88858    9.589986270228904  ...          0         50\n",
              "Season                   88858   1.8969591933196785  ...          1          3\n",
              "Crop_Damage              88858  0.19056247045848432  ...          0          2\n",
              "\n",
              "[11 rows x 5 columns]"
            ]
          },
          "metadata": {
            "tags": []
          },
          "execution_count": 7
        }
      ]
    },
    {
      "cell_type": "code",
      "metadata": {
        "id": "2Tf0_VzPhAfP"
      },
      "source": [
        "columns=['ID','Estimated_Insects_Count','Crop_Type','Soil_Type','Pesticide_Use_Category','Number_Doses_Week','Number_Weeks_Used',\n",
        "         'Number_Weeks_Quit','Season','Crop_Damage']"
      ],
      "execution_count": 8,
      "outputs": []
    },
    {
      "cell_type": "code",
      "metadata": {
        "colab": {
          "base_uri": "https://localhost:8080/"
        },
        "id": "7Zy_ewXUhAij",
        "outputId": "ed43ddc1-7da7-4797-98b5-19afced083df"
      },
      "source": [
        "df.toPandas()[columns].nunique()"
      ],
      "execution_count": 9,
      "outputs": [
        {
          "output_type": "execute_result",
          "data": {
            "text/plain": [
              "ID                         88858\n",
              "Estimated_Insects_Count       71\n",
              "Crop_Type                      2\n",
              "Soil_Type                      2\n",
              "Pesticide_Use_Category         3\n",
              "Number_Doses_Week             20\n",
              "Number_Weeks_Used             64\n",
              "Number_Weeks_Quit             51\n",
              "Season                         3\n",
              "Crop_Damage                    3\n",
              "dtype: int64"
            ]
          },
          "metadata": {
            "tags": []
          },
          "execution_count": 9
        }
      ]
    },
    {
      "cell_type": "code",
      "metadata": {
        "id": "YB02Ww7bhAmR"
      },
      "source": [
        "numeric_feautres=['Estimated_Insects_Count','Number_Weeks_Used','Number_Weeks_Quit']\n",
        "\n",
        "categorical_feautres=['Crop_Type','Soil_Type','Pesticide_Use_Category','Number_Doses_Week','Season']\n",
        "\n",
        "target=['Crop_Damage']"
      ],
      "execution_count": 10,
      "outputs": []
    },
    {
      "cell_type": "code",
      "metadata": {
        "id": "8zhXEQMehAp_"
      },
      "source": [
        "numeric_data = df.select(numeric_feautres).toPandas()"
      ],
      "execution_count": 11,
      "outputs": []
    },
    {
      "cell_type": "code",
      "metadata": {
        "colab": {
          "base_uri": "https://localhost:8080/"
        },
        "id": "ykvk8FOxhAtY",
        "outputId": "52340826-5cb2-4d5e-a364-e1d840c6211f"
      },
      "source": [
        "df=df.select('Estimated_Insects_Count','Crop_Type','Soil_Type','Pesticide_Use_Category','Number_Doses_Week','Number_Weeks_Used',\n",
        "         'Number_Weeks_Quit','Season','Crop_Damage')\n",
        "\n",
        "cols = df.columns\n",
        "df.printSchema()"
      ],
      "execution_count": 12,
      "outputs": [
        {
          "output_type": "stream",
          "text": [
            "root\n",
            " |-- Estimated_Insects_Count: integer (nullable = true)\n",
            " |-- Crop_Type: integer (nullable = true)\n",
            " |-- Soil_Type: integer (nullable = true)\n",
            " |-- Pesticide_Use_Category: integer (nullable = true)\n",
            " |-- Number_Doses_Week: integer (nullable = true)\n",
            " |-- Number_Weeks_Used: integer (nullable = true)\n",
            " |-- Number_Weeks_Quit: integer (nullable = true)\n",
            " |-- Season: integer (nullable = true)\n",
            " |-- Crop_Damage: integer (nullable = true)\n",
            "\n"
          ],
          "name": "stdout"
        }
      ]
    },
    {
      "cell_type": "code",
      "metadata": {
        "colab": {
          "base_uri": "https://localhost:8080/"
        },
        "id": "KnWJwo46hAwv",
        "outputId": "35c49464-0d0a-475d-a930-3440f5d10c6a"
      },
      "source": [
        "df.toPandas().isna().sum()"
      ],
      "execution_count": 13,
      "outputs": [
        {
          "output_type": "execute_result",
          "data": {
            "text/plain": [
              "Estimated_Insects_Count       0\n",
              "Crop_Type                     0\n",
              "Soil_Type                     0\n",
              "Pesticide_Use_Category        0\n",
              "Number_Doses_Week             0\n",
              "Number_Weeks_Used          9000\n",
              "Number_Weeks_Quit             0\n",
              "Season                        0\n",
              "Crop_Damage                   0\n",
              "dtype: int64"
            ]
          },
          "metadata": {
            "tags": []
          },
          "execution_count": 13
        }
      ]
    },
    {
      "cell_type": "code",
      "metadata": {
        "colab": {
          "base_uri": "https://localhost:8080/"
        },
        "id": "uAxLNLkShA0a",
        "outputId": "7cdb06eb-ee79-43f8-979a-7f7760839ec5"
      },
      "source": [
        "df.filter(df['Number_Weeks_Used'].isNull()).count()"
      ],
      "execution_count": 14,
      "outputs": [
        {
          "output_type": "execute_result",
          "data": {
            "text/plain": [
              "9000"
            ]
          },
          "metadata": {
            "tags": []
          },
          "execution_count": 14
        }
      ]
    },
    {
      "cell_type": "code",
      "metadata": {
        "colab": {
          "base_uri": "https://localhost:8080/"
        },
        "id": "yBEnv4k65786",
        "outputId": "9065d720-6583-46ba-d386-357540a8b7dd"
      },
      "source": [
        "df.columns"
      ],
      "execution_count": 15,
      "outputs": [
        {
          "output_type": "execute_result",
          "data": {
            "text/plain": [
              "['Estimated_Insects_Count',\n",
              " 'Crop_Type',\n",
              " 'Soil_Type',\n",
              " 'Pesticide_Use_Category',\n",
              " 'Number_Doses_Week',\n",
              " 'Number_Weeks_Used',\n",
              " 'Number_Weeks_Quit',\n",
              " 'Season',\n",
              " 'Crop_Damage']"
            ]
          },
          "metadata": {
            "tags": []
          },
          "execution_count": 15
        }
      ]
    },
    {
      "cell_type": "code",
      "metadata": {
        "colab": {
          "base_uri": "https://localhost:8080/"
        },
        "id": "lK4SWbFHhA3q",
        "outputId": "d4cd3d10-c8d1-4fb8-a0f8-4d5639962783"
      },
      "source": [
        "for j in ['Estimated_Insects_Count','Crop_Type','Soil_Type','Pesticide_Use_Category','Number_Doses_Week','Number_Weeks_Used','Number_Weeks_Quit']:\n",
        "    print(\"Correlation with\"+j+\" Crop_Damage\",df.corr('Crop_Damage',j))"
      ],
      "execution_count": 16,
      "outputs": [
        {
          "output_type": "stream",
          "text": [
            "Correlation withEstimated_Insects_Count Crop_Damage 0.2028883265043235\n",
            "Correlation withCrop_Type Crop_Damage -0.016494705652070066\n",
            "Correlation withSoil_Type Crop_Damage -0.021997272041923074\n",
            "Correlation withPesticide_Use_Category Crop_Damage 0.17500204470503275\n",
            "Correlation withNumber_Doses_Week Crop_Damage -0.03087425832208959\n",
            "Correlation withNumber_Weeks_Used Crop_Damage 0.1746679539287501\n",
            "Correlation withNumber_Weeks_Quit Crop_Damage -0.13311659360152783\n"
          ],
          "name": "stdout"
        }
      ]
    },
    {
      "cell_type": "code",
      "metadata": {
        "id": "l_oaexlIhA60",
        "colab": {
          "base_uri": "https://localhost:8080/"
        },
        "outputId": "d5aa0e96-4f6a-40f7-c02f-d6e6543d0785"
      },
      "source": [
        "df.agg({\"Number_Weeks_Used\":\"mean\"}).collect()"
      ],
      "execution_count": 17,
      "outputs": [
        {
          "output_type": "execute_result",
          "data": {
            "text/plain": [
              "[Row(avg(Number_Weeks_Used)=28.62397004683313)]"
            ]
          },
          "metadata": {
            "tags": []
          },
          "execution_count": 17
        }
      ]
    },
    {
      "cell_type": "code",
      "metadata": {
        "id": "nELMRrsFhBBj"
      },
      "source": [
        "df=df.na.fill(value=28.62397004683313,subset=[\"Number_Weeks_Used\"])"
      ],
      "execution_count": 18,
      "outputs": []
    },
    {
      "cell_type": "code",
      "metadata": {
        "id": "BXeIDuVF9jSt"
      },
      "source": [
        "from pyspark.ml.feature import  StringIndexer, VectorAssembler\n",
        "stages = []\n",
        "label_stringIdx = StringIndexer(inputCol = 'Crop_Damage', outputCol = 'label')\n",
        "stages += [label_stringIdx]\n",
        "\n",
        "assemblerInputs = categorical_feautres + numeric_feautres\n",
        "assembler = VectorAssembler(inputCols=assemblerInputs, outputCol=\"features\")\n",
        "stages += [assembler]"
      ],
      "execution_count": 19,
      "outputs": []
    },
    {
      "cell_type": "code",
      "metadata": {
        "colab": {
          "base_uri": "https://localhost:8080/"
        },
        "id": "xEjHjZY_9jZD",
        "outputId": "7e052fce-5d87-472a-cef8-930bfabd69e8"
      },
      "source": [
        "from pyspark.ml import Pipeline\n",
        "pipeline = Pipeline(stages = stages)\n",
        "pipelineModel = pipeline.fit(df)\n",
        "df = pipelineModel.transform(df)\n",
        "selectedCols = ['label', 'features'] + cols\n",
        "df = df.select(selectedCols)\n",
        "df.printSchema()\n"
      ],
      "execution_count": 20,
      "outputs": [
        {
          "output_type": "stream",
          "text": [
            "root\n",
            " |-- label: double (nullable = false)\n",
            " |-- features: vector (nullable = true)\n",
            " |-- Estimated_Insects_Count: integer (nullable = true)\n",
            " |-- Crop_Type: integer (nullable = true)\n",
            " |-- Soil_Type: integer (nullable = true)\n",
            " |-- Pesticide_Use_Category: integer (nullable = true)\n",
            " |-- Number_Doses_Week: integer (nullable = true)\n",
            " |-- Number_Weeks_Used: integer (nullable = true)\n",
            " |-- Number_Weeks_Quit: integer (nullable = true)\n",
            " |-- Season: integer (nullable = true)\n",
            " |-- Crop_Damage: integer (nullable = true)\n",
            "\n"
          ],
          "name": "stdout"
        }
      ]
    },
    {
      "cell_type": "code",
      "metadata": {
        "colab": {
          "base_uri": "https://localhost:8080/",
          "height": 394
        },
        "id": "fr3f6TG29jcn",
        "outputId": "335b04b5-6269-4261-e521-0c1c3d7d5531"
      },
      "source": [
        "pd.DataFrame(df.take(5), columns=df.columns).transpose()"
      ],
      "execution_count": 21,
      "outputs": [
        {
          "output_type": "execute_result",
          "data": {
            "text/html": [
              "<div>\n",
              "<style scoped>\n",
              "    .dataframe tbody tr th:only-of-type {\n",
              "        vertical-align: middle;\n",
              "    }\n",
              "\n",
              "    .dataframe tbody tr th {\n",
              "        vertical-align: top;\n",
              "    }\n",
              "\n",
              "    .dataframe thead th {\n",
              "        text-align: right;\n",
              "    }\n",
              "</style>\n",
              "<table border=\"1\" class=\"dataframe\">\n",
              "  <thead>\n",
              "    <tr style=\"text-align: right;\">\n",
              "      <th></th>\n",
              "      <th>0</th>\n",
              "      <th>1</th>\n",
              "      <th>2</th>\n",
              "      <th>3</th>\n",
              "      <th>4</th>\n",
              "    </tr>\n",
              "  </thead>\n",
              "  <tbody>\n",
              "    <tr>\n",
              "      <th>label</th>\n",
              "      <td>0</td>\n",
              "      <td>1</td>\n",
              "      <td>1</td>\n",
              "      <td>1</td>\n",
              "      <td>1</td>\n",
              "    </tr>\n",
              "    <tr>\n",
              "      <th>features</th>\n",
              "      <td>(1.0, 0.0, 1.0, 0.0, 1.0, 188.0, 0.0, 0.0)</td>\n",
              "      <td>(1.0, 0.0, 1.0, 0.0, 2.0, 209.0, 0.0, 0.0)</td>\n",
              "      <td>(1.0, 0.0, 1.0, 0.0, 2.0, 257.0, 0.0, 0.0)</td>\n",
              "      <td>[1.0, 1.0, 1.0, 0.0, 2.0, 257.0, 0.0, 0.0]</td>\n",
              "      <td>(1.0, 0.0, 1.0, 0.0, 2.0, 342.0, 0.0, 0.0)</td>\n",
              "    </tr>\n",
              "    <tr>\n",
              "      <th>Estimated_Insects_Count</th>\n",
              "      <td>188</td>\n",
              "      <td>209</td>\n",
              "      <td>257</td>\n",
              "      <td>257</td>\n",
              "      <td>342</td>\n",
              "    </tr>\n",
              "    <tr>\n",
              "      <th>Crop_Type</th>\n",
              "      <td>1</td>\n",
              "      <td>1</td>\n",
              "      <td>1</td>\n",
              "      <td>1</td>\n",
              "      <td>1</td>\n",
              "    </tr>\n",
              "    <tr>\n",
              "      <th>Soil_Type</th>\n",
              "      <td>0</td>\n",
              "      <td>0</td>\n",
              "      <td>0</td>\n",
              "      <td>1</td>\n",
              "      <td>0</td>\n",
              "    </tr>\n",
              "    <tr>\n",
              "      <th>Pesticide_Use_Category</th>\n",
              "      <td>1</td>\n",
              "      <td>1</td>\n",
              "      <td>1</td>\n",
              "      <td>1</td>\n",
              "      <td>1</td>\n",
              "    </tr>\n",
              "    <tr>\n",
              "      <th>Number_Doses_Week</th>\n",
              "      <td>0</td>\n",
              "      <td>0</td>\n",
              "      <td>0</td>\n",
              "      <td>0</td>\n",
              "      <td>0</td>\n",
              "    </tr>\n",
              "    <tr>\n",
              "      <th>Number_Weeks_Used</th>\n",
              "      <td>0</td>\n",
              "      <td>0</td>\n",
              "      <td>0</td>\n",
              "      <td>0</td>\n",
              "      <td>0</td>\n",
              "    </tr>\n",
              "    <tr>\n",
              "      <th>Number_Weeks_Quit</th>\n",
              "      <td>0</td>\n",
              "      <td>0</td>\n",
              "      <td>0</td>\n",
              "      <td>0</td>\n",
              "      <td>0</td>\n",
              "    </tr>\n",
              "    <tr>\n",
              "      <th>Season</th>\n",
              "      <td>1</td>\n",
              "      <td>2</td>\n",
              "      <td>2</td>\n",
              "      <td>2</td>\n",
              "      <td>2</td>\n",
              "    </tr>\n",
              "    <tr>\n",
              "      <th>Crop_Damage</th>\n",
              "      <td>0</td>\n",
              "      <td>1</td>\n",
              "      <td>1</td>\n",
              "      <td>1</td>\n",
              "      <td>1</td>\n",
              "    </tr>\n",
              "  </tbody>\n",
              "</table>\n",
              "</div>"
            ],
            "text/plain": [
              "                                                                  0  ...                                           4\n",
              "label                                                             0  ...                                           1\n",
              "features                 (1.0, 0.0, 1.0, 0.0, 1.0, 188.0, 0.0, 0.0)  ...  (1.0, 0.0, 1.0, 0.0, 2.0, 342.0, 0.0, 0.0)\n",
              "Estimated_Insects_Count                                         188  ...                                         342\n",
              "Crop_Type                                                         1  ...                                           1\n",
              "Soil_Type                                                         0  ...                                           0\n",
              "Pesticide_Use_Category                                            1  ...                                           1\n",
              "Number_Doses_Week                                                 0  ...                                           0\n",
              "Number_Weeks_Used                                                 0  ...                                           0\n",
              "Number_Weeks_Quit                                                 0  ...                                           0\n",
              "Season                                                            1  ...                                           2\n",
              "Crop_Damage                                                       0  ...                                           1\n",
              "\n",
              "[11 rows x 5 columns]"
            ]
          },
          "metadata": {
            "tags": []
          },
          "execution_count": 21
        }
      ]
    },
    {
      "cell_type": "code",
      "metadata": {
        "colab": {
          "base_uri": "https://localhost:8080/"
        },
        "id": "r_taFbWG9jfo",
        "outputId": "e1c2d995-4327-4002-a91e-9cd65d9c2b58"
      },
      "source": [
        "train, test = df.randomSplit([0.7, 0.3], seed = 2018)\n",
        "print(\"Training Dataset Count: \" + str(train.count()))\n",
        "print(\"Test Dataset Count: \" + str(test.count()))"
      ],
      "execution_count": 22,
      "outputs": [
        {
          "output_type": "stream",
          "text": [
            "Training Dataset Count: 62220\n",
            "Test Dataset Count: 26638\n"
          ],
          "name": "stdout"
        }
      ]
    },
    {
      "cell_type": "code",
      "metadata": {
        "id": "YTSeHm5_9ji-"
      },
      "source": [
        "from pyspark.ml.classification import LogisticRegression\n",
        "lr = LogisticRegression(featuresCol = 'features', labelCol = 'label', maxIter=10)\n",
        "lrModel = lr.fit(train)"
      ],
      "execution_count": 23,
      "outputs": []
    },
    {
      "cell_type": "code",
      "metadata": {
        "id": "n0Dq1Yz8hBH4"
      },
      "source": [
        "trainingSummary = lrModel.summary"
      ],
      "execution_count": 24,
      "outputs": []
    },
    {
      "cell_type": "code",
      "metadata": {
        "colab": {
          "base_uri": "https://localhost:8080/"
        },
        "id": "f_MacALCd0k3",
        "outputId": "ad095973-6075-4a4b-e341-6681a2026188"
      },
      "source": [
        "trainingSummary.accuracy"
      ],
      "execution_count": 26,
      "outputs": [
        {
          "output_type": "execute_result",
          "data": {
            "text/plain": [
              "0.8339279974284796"
            ]
          },
          "metadata": {
            "tags": []
          },
          "execution_count": 26
        }
      ]
    },
    {
      "cell_type": "code",
      "metadata": {
        "id": "dA_2n9AjhBLb",
        "colab": {
          "base_uri": "https://localhost:8080/"
        },
        "outputId": "8e1ed902-45e8-41f0-fd90-1db231261da7"
      },
      "source": [
        "predictions = lrModel.transform(test)\n",
        "predictions.select( 'label', 'rawPrediction', 'prediction', 'probability').show(40)"
      ],
      "execution_count": 27,
      "outputs": [
        {
          "output_type": "stream",
          "text": [
            "+-----+--------------------+----------+--------------------+\n",
            "|label|       rawPrediction|prediction|         probability|\n",
            "+-----+--------------------+----------+--------------------+\n",
            "|  0.0|[2.15187785121689...|       0.0|[0.90495552620899...|\n",
            "|  0.0|[1.54684033587725...|       0.0|[0.76775925324628...|\n",
            "|  0.0|[1.87910031695412...|       0.0|[0.84546558480914...|\n",
            "|  0.0|[1.84597146164734...|       0.0|[0.83766828973997...|\n",
            "|  0.0|[1.40701412883248...|       0.0|[0.70287932939929...|\n",
            "|  0.0|[1.16770173984007...|       0.0|[0.60645786864169...|\n",
            "|  0.0|[2.32164451372330...|       0.0|[0.91662813020015...|\n",
            "|  0.0|[2.05041087090433...|       0.0|[0.87068062319702...|\n",
            "|  0.0|[2.02033335753369...|       0.0|[0.86455129077413...|\n",
            "|  0.0|[1.90089511603293...|       0.0|[0.83770723457881...|\n",
            "|  0.0|[1.81327801186631...|       0.0|[0.81534086757758...|\n",
            "|  0.0|[1.56742703301072...|       0.0|[0.73985879169650...|\n",
            "|  0.0|[1.40091094449506...|       0.0|[0.67832036208770...|\n",
            "|  0.0|[1.20039418869085...|       0.0|[0.59498604828857...|\n",
            "|  0.0|[0.54009622853691...|       1.0|[0.28614726877617...|\n",
            "|  0.0|[1.65727382247034...|       0.0|[0.78497921975417...|\n",
            "|  0.0|[1.44760304085769...|       0.0|[0.71530091902057...|\n",
            "|  0.0|[1.09713462419121...|       0.0|[0.57269783586781...|\n",
            "|  0.0|[0.86828397897989...|       1.0|[0.47011227717113...|\n",
            "|  0.0|[1.43724091310390...|       0.0|[0.69241387519059...|\n",
            "|  0.0|[1.25416039693484...|       0.0|[0.61814142955117...|\n",
            "|  0.0|[1.61286596096225...|       0.0|[0.81046446233189...|\n",
            "|  0.0|[1.81800943172261...|       0.0|[0.85576592176579...|\n",
            "|  0.0|[2.20913267103402...|       0.0|[0.90248340752034...|\n",
            "|  0.0|[1.96273187369491...|       0.0|[0.88146257921269...|\n",
            "|  0.0|[2.03835066538508...|       0.0|[0.87536927189998...|\n",
            "|  0.0|[2.03288628994590...|       0.0|[0.88157709179868...|\n",
            "|  0.0|[1.79263291497585...|       0.0|[0.84906643144,0....|\n",
            "|  0.0|[1.75440357694323...|       0.0|[0.84338467928199...|\n",
            "|  0.0|[1.70444037054551...|       0.0|[0.83791573597240...|\n",
            "|  0.0|[2.35860084812698...|       0.0|[0.91453410448223...|\n",
            "|  0.0|[2.21007732279361...|       0.0|[0.90514357067796...|\n",
            "|  0.0|[2.38149314459344...|       0.0|[0.91947158204231...|\n",
            "|  0.0|[1.83586959295882...|       0.0|[0.84984790755299...|\n",
            "|  0.0|[1.83313740523923...|       0.0|[0.85324073991025...|\n",
            "|  0.0|[2.19427710045580...|       0.0|[0.89626551824852...|\n",
            "|  0.0|[2.19222795966611...|       0.0|[0.89836466009968...|\n",
            "|  0.0|[2.04370443433274...|       0.0|[0.88691409621987...|\n",
            "|  0.0|[1.42491986300776...|       0.0|[0.77933727973335...|\n",
            "|  0.0|[2.45852808742270...|       0.0|[0.91803429592678...|\n",
            "+-----+--------------------+----------+--------------------+\n",
            "only showing top 40 rows\n",
            "\n"
          ],
          "name": "stdout"
        }
      ]
    },
    {
      "cell_type": "code",
      "metadata": {
        "colab": {
          "base_uri": "https://localhost:8080/"
        },
        "id": "qI4XiQDqe0oQ",
        "outputId": "4f182b9e-be29-42d9-a266-6e963df4cc74"
      },
      "source": [
        "trainingSummary.precisionByLabel"
      ],
      "execution_count": 28,
      "outputs": [
        {
          "output_type": "execute_result",
          "data": {
            "text/plain": [
              "[0.8412604918274187, 0.4268846503178928, 0.0]"
            ]
          },
          "metadata": {
            "tags": []
          },
          "execution_count": 28
        }
      ]
    },
    {
      "cell_type": "code",
      "metadata": {
        "id": "8yH1uQaBe0vm",
        "colab": {
          "base_uri": "https://localhost:8080/"
        },
        "outputId": "cf982311-7a14-4907-e64c-d12536668bea"
      },
      "source": [
        "from pyspark.ml.classification import DecisionTreeClassifier\n",
        "\n",
        "dt = DecisionTreeClassifier(featuresCol = 'features', labelCol = 'label', maxDepth = 17)\n",
        "dtModel = dt.fit(train)\n",
        "predictions = dtModel.transform(test)\n",
        "predictions.select( 'label', 'rawPrediction', 'prediction', 'probability').show(10)\n"
      ],
      "execution_count": 32,
      "outputs": [
        {
          "output_type": "stream",
          "text": [
            "+-----+--------------+----------+--------------------+\n",
            "|label| rawPrediction|prediction|         probability|\n",
            "+-----+--------------+----------+--------------------+\n",
            "|  0.0| [1.0,5.0,0.0]|       1.0|[0.16666666666666...|\n",
            "|  0.0| [0.0,6.0,0.0]|       1.0|       [0.0,1.0,0.0]|\n",
            "|  0.0| [0.0,2.0,0.0]|       1.0|       [0.0,1.0,0.0]|\n",
            "|  0.0| [1.0,1.0,0.0]|       0.0|       [0.5,0.5,0.0]|\n",
            "|  0.0| [0.0,0.0,2.0]|       2.0|       [0.0,0.0,1.0]|\n",
            "|  0.0| [0.0,2.0,0.0]|       1.0|       [0.0,1.0,0.0]|\n",
            "|  0.0|[3.0,44.0,3.0]|       1.0|    [0.06,0.88,0.06]|\n",
            "|  0.0| [1.0,1.0,0.0]|       0.0|       [0.5,0.5,0.0]|\n",
            "|  0.0| [1.0,1.0,0.0]|       0.0|       [0.5,0.5,0.0]|\n",
            "|  0.0| [0.0,8.0,0.0]|       1.0|       [0.0,1.0,0.0]|\n",
            "+-----+--------------+----------+--------------------+\n",
            "only showing top 10 rows\n",
            "\n"
          ],
          "name": "stdout"
        }
      ]
    },
    {
      "cell_type": "code",
      "metadata": {
        "id": "QsopbUECjsXd"
      },
      "source": [
        "test_df=test.toPandas()\n",
        "pred_df=predictions.toPandas()"
      ],
      "execution_count": 43,
      "outputs": []
    },
    {
      "cell_type": "code",
      "metadata": {
        "id": "rZBtDZyfjsab"
      },
      "source": [
        "y_test=test_df['Crop_Damage'].values\n",
        "y_pred=pred_df['prediction'].values\n"
      ],
      "execution_count": 45,
      "outputs": []
    },
    {
      "cell_type": "code",
      "metadata": {
        "colab": {
          "base_uri": "https://localhost:8080/"
        },
        "id": "8etJayWSjsds",
        "outputId": "f72999e2-f2d4-435f-e872-e7ced5307fc7"
      },
      "source": [
        "from sklearn.metrics import accuracy_score\n",
        "print(\"The Accuracy Score\",accuracy_score(y_test,y_pred))\n"
      ],
      "execution_count": 46,
      "outputs": [
        {
          "output_type": "stream",
          "text": [
            "The Accuracy Score 0.7980704257076358\n"
          ],
          "name": "stdout"
        }
      ]
    },
    {
      "cell_type": "code",
      "metadata": {
        "id": "2sQJWEwcjsg7"
      },
      "source": [
        ""
      ],
      "execution_count": null,
      "outputs": []
    },
    {
      "cell_type": "code",
      "metadata": {
        "id": "3TNaEOjpjskm"
      },
      "source": [
        ""
      ],
      "execution_count": null,
      "outputs": []
    },
    {
      "cell_type": "code",
      "metadata": {
        "id": "P31jrilte0y_"
      },
      "source": [
        ""
      ],
      "execution_count": null,
      "outputs": []
    },
    {
      "cell_type": "code",
      "metadata": {
        "id": "08SfabTRe02C"
      },
      "source": [
        ""
      ],
      "execution_count": null,
      "outputs": []
    },
    {
      "cell_type": "code",
      "metadata": {
        "id": "eJdOQ-S2e05P"
      },
      "source": [
        ""
      ],
      "execution_count": null,
      "outputs": []
    }
  ]
}