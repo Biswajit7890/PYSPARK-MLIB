{
  "nbformat": 4,
  "nbformat_minor": 0,
  "metadata": {
    "colab": {
      "name": "K Means with pyspark.ipynb",
      "provenance": []
    },
    "kernelspec": {
      "name": "python3",
      "display_name": "Python 3"
    },
    "language_info": {
      "name": "python"
    }
  },
  "cells": [
    {
      "cell_type": "code",
      "metadata": {
        "id": "Jaj0j0CNg_xb"
      },
      "source": [
        "import pandas as pd\n",
        "import numpy as np\n",
        "import matplotlib.pyplot as plt\n",
        "import seaborn as sns\n",
        "import warnings\n",
        "warnings.filterwarnings('ignore')"
      ],
      "execution_count": 1,
      "outputs": []
    },
    {
      "cell_type": "code",
      "metadata": {
        "colab": {
          "base_uri": "https://localhost:8080/"
        },
        "id": "Mj5xAT0BD_HE",
        "outputId": "82586c2c-9a78-4446-e811-7b0abbfd94a1"
      },
      "source": [
        "pip install pyspark "
      ],
      "execution_count": null,
      "outputs": [
        {
          "output_type": "stream",
          "text": [
            "Collecting pyspark\n",
            "\u001b[?25l  Downloading https://files.pythonhosted.org/packages/45/b0/9d6860891ab14a39d4bddf80ba26ce51c2f9dc4805e5c6978ac0472c120a/pyspark-3.1.1.tar.gz (212.3MB)\n",
            "\u001b[K     |████████████████████████████████| 212.3MB 54kB/s \n",
            "\u001b[?25hCollecting py4j==0.10.9\n",
            "\u001b[?25l  Downloading https://files.pythonhosted.org/packages/9e/b6/6a4fb90cd235dc8e265a6a2067f2a2c99f0d91787f06aca4bcf7c23f3f80/py4j-0.10.9-py2.py3-none-any.whl (198kB)\n",
            "\u001b[K     |████████████████████████████████| 204kB 19.4MB/s \n",
            "\u001b[?25hBuilding wheels for collected packages: pyspark\n",
            "  Building wheel for pyspark (setup.py) ... \u001b[?25l\u001b[?25hdone\n",
            "  Created wheel for pyspark: filename=pyspark-3.1.1-py2.py3-none-any.whl size=212767604 sha256=d3e7983a1ba1e1113d3c58c3f6ccf18fa12a1947a676afe88a117d52bce86680\n",
            "  Stored in directory: /root/.cache/pip/wheels/0b/90/c0/01de724414ef122bd05f056541fb6a0ecf47c7ca655f8b3c0f\n",
            "Successfully built pyspark\n",
            "Installing collected packages: py4j, pyspark\n",
            "Successfully installed py4j-0.10.9 pyspark-3.1.1\n"
          ],
          "name": "stdout"
        }
      ]
    },
    {
      "cell_type": "code",
      "metadata": {
        "id": "rBJO1Al8D_Q9",
        "colab": {
          "base_uri": "https://localhost:8080/"
        },
        "outputId": "49a75b86-8642-461f-a2c1-53caa29b4ae8"
      },
      "source": [
        "from pyspark.sql import SparkSession\n",
        "spark = SparkSession.builder.appName('Clustering-using K-Means').getOrCreate()\n",
        "data_customer=spark.read.csv('buddymove_holidayiq.csv', header=True, inferSchema=True)\n",
        "data_customer.printSchema()"
      ],
      "execution_count": 3,
      "outputs": [
        {
          "output_type": "stream",
          "text": [
            "root\n",
            " |-- User Id: string (nullable = true)\n",
            " |-- Sports: integer (nullable = true)\n",
            " |-- Religious: integer (nullable = true)\n",
            " |-- Nature: integer (nullable = true)\n",
            " |-- Theatre: integer (nullable = true)\n",
            " |-- Shopping: integer (nullable = true)\n",
            " |-- Picnic: integer (nullable = true)\n",
            "\n"
          ],
          "name": "stdout"
        }
      ]
    },
    {
      "cell_type": "code",
      "metadata": {
        "id": "zJQZOSo9D_T5",
        "colab": {
          "base_uri": "https://localhost:8080/"
        },
        "outputId": "800e3539-9798-469a-a9e2-5e94f3969c50"
      },
      "source": [
        "data_customer.columns"
      ],
      "execution_count": 4,
      "outputs": [
        {
          "output_type": "execute_result",
          "data": {
            "text/plain": [
              "['User Id', 'Sports', 'Religious', 'Nature', 'Theatre', 'Shopping', 'Picnic']"
            ]
          },
          "metadata": {
            "tags": []
          },
          "execution_count": 4
        }
      ]
    },
    {
      "cell_type": "code",
      "metadata": {
        "id": "yxbCkkYTD_Xr",
        "colab": {
          "base_uri": "https://localhost:8080/"
        },
        "outputId": "9ef63b80-d296-4f8e-87f2-3d84afa0d340"
      },
      "source": [
        "data_customer.toPandas().isna().sum()"
      ],
      "execution_count": 5,
      "outputs": [
        {
          "output_type": "execute_result",
          "data": {
            "text/plain": [
              "User Id      0\n",
              "Sports       0\n",
              "Religious    0\n",
              "Nature       0\n",
              "Theatre      0\n",
              "Shopping     0\n",
              "Picnic       0\n",
              "dtype: int64"
            ]
          },
          "metadata": {
            "tags": []
          },
          "execution_count": 5
        }
      ]
    },
    {
      "cell_type": "code",
      "metadata": {
        "id": "aHBygdGdD_az"
      },
      "source": [
        "from pyspark.ml.feature import VectorAssembler\n",
        "\n",
        "feautre_columns=data_customer.columns "
      ],
      "execution_count": 7,
      "outputs": []
    },
    {
      "cell_type": "code",
      "metadata": {
        "id": "A5xaFHfBD_eS"
      },
      "source": [
        "assemble=VectorAssembler(inputCols=[ 'Sports', 'Religious', 'Nature', 'Theatre', 'Shopping', 'Picnic'], outputCol='features')"
      ],
      "execution_count": 14,
      "outputs": []
    },
    {
      "cell_type": "code",
      "metadata": {
        "id": "t9-zRs3DD_hs",
        "colab": {
          "base_uri": "https://localhost:8080/"
        },
        "outputId": "8ba74f88-9012-4369-dc34-b0f1f0665c02"
      },
      "source": [
        "assembled_data=assemble.transform(data_customer)\n",
        "assembled_data.show(2)"
      ],
      "execution_count": 15,
      "outputs": [
        {
          "output_type": "stream",
          "text": [
            "+-------+------+---------+------+-------+--------+------+--------------------+\n",
            "|User Id|Sports|Religious|Nature|Theatre|Shopping|Picnic|            features|\n",
            "+-------+------+---------+------+-------+--------+------+--------------------+\n",
            "| User 1|     2|       77|    79|     69|      68|    95|[2.0,77.0,79.0,69...|\n",
            "| User 2|     2|       62|    76|     76|      69|    68|[2.0,62.0,76.0,76...|\n",
            "+-------+------+---------+------+-------+--------+------+--------------------+\n",
            "only showing top 2 rows\n",
            "\n"
          ],
          "name": "stdout"
        }
      ]
    },
    {
      "cell_type": "code",
      "metadata": {
        "id": "nVV92BlfD_lK",
        "colab": {
          "base_uri": "https://localhost:8080/"
        },
        "outputId": "a5292f2b-c96a-4fb1-a21f-f58d88118a0d"
      },
      "source": [
        "from pyspark.ml.feature import StandardScaler\n",
        "\n",
        "scale=StandardScaler(inputCol='features',outputCol='standardized')\n",
        "data_scale=scale.fit(assembled_data)\n",
        "data_scale_output=data_scale.transform(assembled_data)\n",
        "data_scale_output.show(2)\n"
      ],
      "execution_count": 16,
      "outputs": [
        {
          "output_type": "stream",
          "text": [
            "+-------+------+---------+------+-------+--------+------+--------------------+--------------------+\n",
            "|User Id|Sports|Religious|Nature|Theatre|Shopping|Picnic|            features|        standardized|\n",
            "+-------+------+---------+------+-------+--------+------+--------------------+--------------------+\n",
            "| User 1|     2|       77|    79|     69|      68|    95|[2.0,77.0,79.0,69...|[0.30227458951867...|\n",
            "| User 2|     2|       62|    76|     76|      69|    68|[2.0,62.0,76.0,76...|[0.30227458951867...|\n",
            "+-------+------+---------+------+-------+--------+------+--------------------+--------------------+\n",
            "only showing top 2 rows\n",
            "\n"
          ],
          "name": "stdout"
        }
      ]
    },
    {
      "cell_type": "code",
      "metadata": {
        "id": "rieJFy8wD_ow"
      },
      "source": [
        "from pyspark.ml.clustering import KMeans\n",
        "from pyspark.ml.evaluation import ClusteringEvaluator\n",
        "\n",
        "silhouette_score=[]"
      ],
      "execution_count": 18,
      "outputs": []
    },
    {
      "cell_type": "code",
      "metadata": {
        "id": "MsfQJfMqD_sJ",
        "colab": {
          "base_uri": "https://localhost:8080/"
        },
        "outputId": "062381de-3bfc-43e2-cb2f-38fae5e2b9f1"
      },
      "source": [
        "evaluator = ClusteringEvaluator(predictionCol='prediction', featuresCol='standardized', metricName='silhouette', distanceMeasure='squaredEuclidean')\n",
        "\n",
        "for i in range(2,20):\n",
        "    KMeans_algo=KMeans(featuresCol='standardized', k=i)\n",
        "    KMeans_fit=KMeans_algo.fit(data_scale_output)\n",
        "    output=KMeans_fit.transform(data_scale_output)\n",
        "    score=evaluator.evaluate(output)\n",
        "    silhouette_score.append(score)\n",
        "    print(\"The k means is\",i)\n",
        "    print(\"Silhouette Score:\",score)"
      ],
      "execution_count": 27,
      "outputs": [
        {
          "output_type": "stream",
          "text": [
            "The k means is 2\n",
            "Silhouette Score: 0.5388830964228156\n",
            "The k means is 3\n",
            "Silhouette Score: 0.3213140930327642\n",
            "The k means is 4\n",
            "Silhouette Score: 0.4234278330413438\n",
            "The k means is 5\n",
            "Silhouette Score: 0.40750983438081945\n",
            "The k means is 6\n",
            "Silhouette Score: 0.3851829380508911\n",
            "The k means is 7\n",
            "Silhouette Score: 0.42994362387035634\n",
            "The k means is 8\n",
            "Silhouette Score: 0.3644471862365092\n",
            "The k means is 9\n",
            "Silhouette Score: 0.4036006261322713\n",
            "The k means is 10\n",
            "Silhouette Score: 0.4267379533129867\n",
            "The k means is 11\n",
            "Silhouette Score: 0.4197134089962329\n",
            "The k means is 12\n",
            "Silhouette Score: 0.4383436448646076\n",
            "The k means is 13\n",
            "Silhouette Score: 0.4459221911988548\n",
            "The k means is 14\n",
            "Silhouette Score: 0.4361292728984629\n",
            "The k means is 15\n",
            "Silhouette Score: 0.467147832743543\n",
            "The k means is 16\n",
            "Silhouette Score: 0.4491479961919911\n",
            "The k means is 17\n",
            "Silhouette Score: 0.4270071213955102\n",
            "The k means is 18\n",
            "Silhouette Score: 0.4043541778822182\n",
            "The k means is 19\n",
            "Silhouette Score: 0.44911737530478774\n"
          ],
          "name": "stdout"
        }
      ]
    },
    {
      "cell_type": "code",
      "metadata": {
        "id": "8xkGnPU5D_2v"
      },
      "source": [
        "KMeans_algo=KMeans(featuresCol='standardized', k=2)\n",
        "KMeans_fit=KMeans_algo.fit(data_scale_output)\n",
        "prediction=KMeans_fit.transform(data_scale_output)"
      ],
      "execution_count": 29,
      "outputs": []
    },
    {
      "cell_type": "code",
      "metadata": {
        "id": "4wR43kQHD_88",
        "colab": {
          "base_uri": "https://localhost:8080/"
        },
        "outputId": "52032d0a-dd40-4c99-92c0-67ac4652c645"
      },
      "source": [
        "centers = KMeans_fit.clusterCenters()\n",
        "print(\"Cluster Centers: \")\n",
        "for center in centers:\n",
        "    print(center)"
      ],
      "execution_count": 31,
      "outputs": [
        {
          "output_type": "stream",
          "text": [
            "Cluster Centers: \n",
            "[2.76169057 4.14795421 3.15138587 4.12239413 3.41169746 4.51462448]\n",
            "[1.0601357  2.77691451 2.39349064 3.22560805 2.15483464 3.03657325]\n"
          ],
          "name": "stdout"
        }
      ]
    },
    {
      "cell_type": "code",
      "metadata": {
        "id": "tN9OPYEIEAAJ"
      },
      "source": [
        "output=prediction.toPandas()"
      ],
      "execution_count": 33,
      "outputs": []
    },
    {
      "cell_type": "code",
      "metadata": {
        "id": "n5fsqL_ZEADg",
        "colab": {
          "base_uri": "https://localhost:8080/",
          "height": 197
        },
        "outputId": "cdc740d4-3591-4e4d-bf93-070a0168ff99"
      },
      "source": [
        "output.head()"
      ],
      "execution_count": 34,
      "outputs": [
        {
          "output_type": "execute_result",
          "data": {
            "text/html": [
              "<div>\n",
              "<style scoped>\n",
              "    .dataframe tbody tr th:only-of-type {\n",
              "        vertical-align: middle;\n",
              "    }\n",
              "\n",
              "    .dataframe tbody tr th {\n",
              "        vertical-align: top;\n",
              "    }\n",
              "\n",
              "    .dataframe thead th {\n",
              "        text-align: right;\n",
              "    }\n",
              "</style>\n",
              "<table border=\"1\" class=\"dataframe\">\n",
              "  <thead>\n",
              "    <tr style=\"text-align: right;\">\n",
              "      <th></th>\n",
              "      <th>User Id</th>\n",
              "      <th>Sports</th>\n",
              "      <th>Religious</th>\n",
              "      <th>Nature</th>\n",
              "      <th>Theatre</th>\n",
              "      <th>Shopping</th>\n",
              "      <th>Picnic</th>\n",
              "      <th>features</th>\n",
              "      <th>standardized</th>\n",
              "      <th>prediction</th>\n",
              "    </tr>\n",
              "  </thead>\n",
              "  <tbody>\n",
              "    <tr>\n",
              "      <th>0</th>\n",
              "      <td>User 1</td>\n",
              "      <td>2</td>\n",
              "      <td>77</td>\n",
              "      <td>79</td>\n",
              "      <td>69</td>\n",
              "      <td>68</td>\n",
              "      <td>95</td>\n",
              "      <td>[2.0, 77.0, 79.0, 69.0, 68.0, 95.0]</td>\n",
              "      <td>[0.3022745895186752, 2.3725805084939395, 1.730...</td>\n",
              "      <td>1</td>\n",
              "    </tr>\n",
              "    <tr>\n",
              "      <th>1</th>\n",
              "      <td>User 2</td>\n",
              "      <td>2</td>\n",
              "      <td>62</td>\n",
              "      <td>76</td>\n",
              "      <td>76</td>\n",
              "      <td>69</td>\n",
              "      <td>68</td>\n",
              "      <td>[2.0, 62.0, 76.0, 76.0, 69.0, 68.0]</td>\n",
              "      <td>[0.3022745895186752, 1.9103895003457696, 1.665...</td>\n",
              "      <td>1</td>\n",
              "    </tr>\n",
              "    <tr>\n",
              "      <th>2</th>\n",
              "      <td>User 3</td>\n",
              "      <td>2</td>\n",
              "      <td>50</td>\n",
              "      <td>97</td>\n",
              "      <td>87</td>\n",
              "      <td>50</td>\n",
              "      <td>75</td>\n",
              "      <td>[2.0, 50.0, 97.0, 87.0, 50.0, 75.0]</td>\n",
              "      <td>[0.3022745895186752, 1.5406366938272336, 2.125...</td>\n",
              "      <td>1</td>\n",
              "    </tr>\n",
              "    <tr>\n",
              "      <th>3</th>\n",
              "      <td>User 4</td>\n",
              "      <td>2</td>\n",
              "      <td>68</td>\n",
              "      <td>77</td>\n",
              "      <td>95</td>\n",
              "      <td>76</td>\n",
              "      <td>61</td>\n",
              "      <td>[2.0, 68.0, 77.0, 95.0, 76.0, 61.0]</td>\n",
              "      <td>[0.3022745895186752, 2.095265903605038, 1.6871...</td>\n",
              "      <td>1</td>\n",
              "    </tr>\n",
              "    <tr>\n",
              "      <th>4</th>\n",
              "      <td>User 5</td>\n",
              "      <td>2</td>\n",
              "      <td>98</td>\n",
              "      <td>54</td>\n",
              "      <td>59</td>\n",
              "      <td>95</td>\n",
              "      <td>86</td>\n",
              "      <td>[2.0, 98.0, 54.0, 59.0, 95.0, 86.0]</td>\n",
              "      <td>[0.3022745895186752, 3.0196479199013777, 1.183...</td>\n",
              "      <td>1</td>\n",
              "    </tr>\n",
              "  </tbody>\n",
              "</table>\n",
              "</div>"
            ],
            "text/plain": [
              "  User Id  ...  prediction\n",
              "0  User 1  ...           1\n",
              "1  User 2  ...           1\n",
              "2  User 3  ...           1\n",
              "3  User 4  ...           1\n",
              "4  User 5  ...           1\n",
              "\n",
              "[5 rows x 10 columns]"
            ]
          },
          "metadata": {
            "tags": []
          },
          "execution_count": 34
        }
      ]
    },
    {
      "cell_type": "code",
      "metadata": {
        "id": "L9PaYlUWEAGo",
        "colab": {
          "base_uri": "https://localhost:8080/"
        },
        "outputId": "63e8f31c-8787-40d0-f1ef-e941533cc8ea"
      },
      "source": [
        "output['prediction'].value_counts()"
      ],
      "execution_count": 35,
      "outputs": [
        {
          "output_type": "execute_result",
          "data": {
            "text/plain": [
              "1    139\n",
              "0    110\n",
              "Name: prediction, dtype: int64"
            ]
          },
          "metadata": {
            "tags": []
          },
          "execution_count": 35
        }
      ]
    },
    {
      "cell_type": "code",
      "metadata": {
        "id": "u6Ci4NOfEALE"
      },
      "source": [
        ""
      ],
      "execution_count": null,
      "outputs": []
    }
  ]
}