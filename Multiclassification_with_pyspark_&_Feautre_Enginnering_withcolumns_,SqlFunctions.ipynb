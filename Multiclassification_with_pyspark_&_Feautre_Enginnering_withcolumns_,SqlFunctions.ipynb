{
  "nbformat": 4,
  "nbformat_minor": 0,
  "metadata": {
    "colab": {
      "name": "Multiclassification with pyspark  & Feautre Enginnering withcolumns ,SqlFunctions.ipynb",
      "provenance": [],
      "collapsed_sections": []
    },
    "kernelspec": {
      "name": "python3",
      "display_name": "Python 3"
    },
    "language_info": {
      "name": "python"
    }
  },
  "cells": [
    {
      "cell_type": "code",
      "metadata": {
        "id": "bbifHsmaAuIF"
      },
      "source": [
        "import pandas as pd\n",
        "import numpy as np\n",
        "import matplotlib.pyplot as plt\n",
        "import seaborn as sns"
      ],
      "execution_count": 160,
      "outputs": []
    },
    {
      "cell_type": "code",
      "metadata": {
        "colab": {
          "base_uri": "https://localhost:8080/"
        },
        "id": "X-AsIRo4A_kI",
        "outputId": "3a55b829-26d8-49d4-9e05-ca05020c6ae5"
      },
      "source": [
        "pip install pyspark\n"
      ],
      "execution_count": 4,
      "outputs": [
        {
          "output_type": "stream",
          "text": [
            "Collecting pyspark\n",
            "\u001b[?25l  Downloading https://files.pythonhosted.org/packages/89/db/e18cfd78e408de957821ec5ca56de1250645b05f8523d169803d8df35a64/pyspark-3.1.2.tar.gz (212.4MB)\n",
            "\u001b[K     |████████████████████████████████| 212.4MB 71kB/s \n",
            "\u001b[?25hCollecting py4j==0.10.9\n",
            "\u001b[?25l  Downloading https://files.pythonhosted.org/packages/9e/b6/6a4fb90cd235dc8e265a6a2067f2a2c99f0d91787f06aca4bcf7c23f3f80/py4j-0.10.9-py2.py3-none-any.whl (198kB)\n",
            "\u001b[K     |████████████████████████████████| 204kB 18.3MB/s \n",
            "\u001b[?25hBuilding wheels for collected packages: pyspark\n",
            "  Building wheel for pyspark (setup.py) ... \u001b[?25l\u001b[?25hdone\n",
            "  Created wheel for pyspark: filename=pyspark-3.1.2-py2.py3-none-any.whl size=212880768 sha256=7406e4d8aa697cdb0468c111b7e1db70848f26298a8e131064d483378b582709\n",
            "  Stored in directory: /root/.cache/pip/wheels/40/1b/2c/30f43be2627857ab80062bef1527c0128f7b4070b6b2d02139\n",
            "Successfully built pyspark\n",
            "Installing collected packages: py4j, pyspark\n",
            "Successfully installed py4j-0.10.9 pyspark-3.1.2\n"
          ],
          "name": "stdout"
        }
      ]
    },
    {
      "cell_type": "code",
      "metadata": {
        "colab": {
          "base_uri": "https://localhost:8080/"
        },
        "id": "Q6N3nLpKA_nM",
        "outputId": "da288c39-9d00-4569-bcf8-b3bf13900eee"
      },
      "source": [
        "from pyspark.sql import SparkSession\n",
        "\n",
        "spark = SparkSession.builder.appName('Aggriculture').getOrCreate()\n",
        "df = spark.read.csv('train_yaOffsB.csv', header = True, inferSchema = True)\n",
        "df.printSchema()"
      ],
      "execution_count": 161,
      "outputs": [
        {
          "output_type": "stream",
          "text": [
            "root\n",
            " |-- ID: string (nullable = true)\n",
            " |-- Estimated_Insects_Count: integer (nullable = true)\n",
            " |-- Crop_Type: integer (nullable = true)\n",
            " |-- Soil_Type: integer (nullable = true)\n",
            " |-- Pesticide_Use_Category: integer (nullable = true)\n",
            " |-- Number_Doses_Week: integer (nullable = true)\n",
            " |-- Number_Weeks_Used: integer (nullable = true)\n",
            " |-- Number_Weeks_Quit: integer (nullable = true)\n",
            " |-- Season: integer (nullable = true)\n",
            " |-- Crop_Damage: integer (nullable = true)\n",
            "\n"
          ],
          "name": "stdout"
        }
      ]
    },
    {
      "cell_type": "code",
      "metadata": {
        "colab": {
          "base_uri": "https://localhost:8080/"
        },
        "id": "eOgCqRMVA_qc",
        "outputId": "57e64bbb-50c8-4797-9545-7320097ec6fc"
      },
      "source": [
        "df.show(10)"
      ],
      "execution_count": 162,
      "outputs": [
        {
          "output_type": "stream",
          "text": [
            "+---------+-----------------------+---------+---------+----------------------+-----------------+-----------------+-----------------+------+-----------+\n",
            "|       ID|Estimated_Insects_Count|Crop_Type|Soil_Type|Pesticide_Use_Category|Number_Doses_Week|Number_Weeks_Used|Number_Weeks_Quit|Season|Crop_Damage|\n",
            "+---------+-----------------------+---------+---------+----------------------+-----------------+-----------------+-----------------+------+-----------+\n",
            "|F00000001|                    188|        1|        0|                     1|                0|                0|                0|     1|          0|\n",
            "|F00000003|                    209|        1|        0|                     1|                0|                0|                0|     2|          1|\n",
            "|F00000004|                    257|        1|        0|                     1|                0|                0|                0|     2|          1|\n",
            "|F00000005|                    257|        1|        1|                     1|                0|                0|                0|     2|          1|\n",
            "|F00000006|                    342|        1|        0|                     1|                0|                0|                0|     2|          1|\n",
            "|F00000008|                    448|        0|        1|                     1|                0|             null|                0|     2|          1|\n",
            "|F00000009|                    448|        0|        1|                     1|                0|             null|                0|     2|          1|\n",
            "|F00000010|                    577|        1|        0|                     1|                0|                0|                0|     1|          2|\n",
            "|F00000012|                    731|        0|        0|                     1|                0|                0|                0|     2|          0|\n",
            "|F00000020|                   1132|        1|        0|                     1|                0|                0|                0|     1|          2|\n",
            "+---------+-----------------------+---------+---------+----------------------+-----------------+-----------------+-----------------+------+-----------+\n",
            "only showing top 10 rows\n",
            "\n"
          ],
          "name": "stdout"
        }
      ]
    },
    {
      "cell_type": "code",
      "metadata": {
        "colab": {
          "base_uri": "https://localhost:8080/",
          "height": 347
        },
        "id": "RtNUITBAA_tk",
        "outputId": "a6052eb5-b54f-46fe-bd02-d48f79b95ab1"
      },
      "source": [
        "pd.DataFrame(df.take(5), columns=df.columns).transpose()"
      ],
      "execution_count": 163,
      "outputs": [
        {
          "output_type": "execute_result",
          "data": {
            "text/html": [
              "<div>\n",
              "<style scoped>\n",
              "    .dataframe tbody tr th:only-of-type {\n",
              "        vertical-align: middle;\n",
              "    }\n",
              "\n",
              "    .dataframe tbody tr th {\n",
              "        vertical-align: top;\n",
              "    }\n",
              "\n",
              "    .dataframe thead th {\n",
              "        text-align: right;\n",
              "    }\n",
              "</style>\n",
              "<table border=\"1\" class=\"dataframe\">\n",
              "  <thead>\n",
              "    <tr style=\"text-align: right;\">\n",
              "      <th></th>\n",
              "      <th>0</th>\n",
              "      <th>1</th>\n",
              "      <th>2</th>\n",
              "      <th>3</th>\n",
              "      <th>4</th>\n",
              "    </tr>\n",
              "  </thead>\n",
              "  <tbody>\n",
              "    <tr>\n",
              "      <th>ID</th>\n",
              "      <td>F00000001</td>\n",
              "      <td>F00000003</td>\n",
              "      <td>F00000004</td>\n",
              "      <td>F00000005</td>\n",
              "      <td>F00000006</td>\n",
              "    </tr>\n",
              "    <tr>\n",
              "      <th>Estimated_Insects_Count</th>\n",
              "      <td>188</td>\n",
              "      <td>209</td>\n",
              "      <td>257</td>\n",
              "      <td>257</td>\n",
              "      <td>342</td>\n",
              "    </tr>\n",
              "    <tr>\n",
              "      <th>Crop_Type</th>\n",
              "      <td>1</td>\n",
              "      <td>1</td>\n",
              "      <td>1</td>\n",
              "      <td>1</td>\n",
              "      <td>1</td>\n",
              "    </tr>\n",
              "    <tr>\n",
              "      <th>Soil_Type</th>\n",
              "      <td>0</td>\n",
              "      <td>0</td>\n",
              "      <td>0</td>\n",
              "      <td>1</td>\n",
              "      <td>0</td>\n",
              "    </tr>\n",
              "    <tr>\n",
              "      <th>Pesticide_Use_Category</th>\n",
              "      <td>1</td>\n",
              "      <td>1</td>\n",
              "      <td>1</td>\n",
              "      <td>1</td>\n",
              "      <td>1</td>\n",
              "    </tr>\n",
              "    <tr>\n",
              "      <th>Number_Doses_Week</th>\n",
              "      <td>0</td>\n",
              "      <td>0</td>\n",
              "      <td>0</td>\n",
              "      <td>0</td>\n",
              "      <td>0</td>\n",
              "    </tr>\n",
              "    <tr>\n",
              "      <th>Number_Weeks_Used</th>\n",
              "      <td>0</td>\n",
              "      <td>0</td>\n",
              "      <td>0</td>\n",
              "      <td>0</td>\n",
              "      <td>0</td>\n",
              "    </tr>\n",
              "    <tr>\n",
              "      <th>Number_Weeks_Quit</th>\n",
              "      <td>0</td>\n",
              "      <td>0</td>\n",
              "      <td>0</td>\n",
              "      <td>0</td>\n",
              "      <td>0</td>\n",
              "    </tr>\n",
              "    <tr>\n",
              "      <th>Season</th>\n",
              "      <td>1</td>\n",
              "      <td>2</td>\n",
              "      <td>2</td>\n",
              "      <td>2</td>\n",
              "      <td>2</td>\n",
              "    </tr>\n",
              "    <tr>\n",
              "      <th>Crop_Damage</th>\n",
              "      <td>0</td>\n",
              "      <td>1</td>\n",
              "      <td>1</td>\n",
              "      <td>1</td>\n",
              "      <td>1</td>\n",
              "    </tr>\n",
              "  </tbody>\n",
              "</table>\n",
              "</div>"
            ],
            "text/plain": [
              "                                 0          1          2          3          4\n",
              "ID                       F00000001  F00000003  F00000004  F00000005  F00000006\n",
              "Estimated_Insects_Count        188        209        257        257        342\n",
              "Crop_Type                        1          1          1          1          1\n",
              "Soil_Type                        0          0          0          1          0\n",
              "Pesticide_Use_Category           1          1          1          1          1\n",
              "Number_Doses_Week                0          0          0          0          0\n",
              "Number_Weeks_Used                0          0          0          0          0\n",
              "Number_Weeks_Quit                0          0          0          0          0\n",
              "Season                           1          2          2          2          2\n",
              "Crop_Damage                      0          1          1          1          1"
            ]
          },
          "metadata": {
            "tags": []
          },
          "execution_count": 163
        }
      ]
    },
    {
      "cell_type": "code",
      "metadata": {
        "colab": {
          "base_uri": "https://localhost:8080/"
        },
        "id": "raGR6BmcA_w1",
        "outputId": "e497bf97-603e-40de-b7c4-99b98c954e1d"
      },
      "source": [
        "df.columns"
      ],
      "execution_count": 164,
      "outputs": [
        {
          "output_type": "execute_result",
          "data": {
            "text/plain": [
              "['ID',\n",
              " 'Estimated_Insects_Count',\n",
              " 'Crop_Type',\n",
              " 'Soil_Type',\n",
              " 'Pesticide_Use_Category',\n",
              " 'Number_Doses_Week',\n",
              " 'Number_Weeks_Used',\n",
              " 'Number_Weeks_Quit',\n",
              " 'Season',\n",
              " 'Crop_Damage']"
            ]
          },
          "metadata": {
            "tags": []
          },
          "execution_count": 164
        }
      ]
    },
    {
      "cell_type": "code",
      "metadata": {
        "colab": {
          "base_uri": "https://localhost:8080/",
          "height": 377
        },
        "id": "goQD01hJA_0H",
        "outputId": "96077893-f241-4345-c434-564bfff0d205"
      },
      "source": [
        "df.describe().toPandas().transpose()"
      ],
      "execution_count": 165,
      "outputs": [
        {
          "output_type": "execute_result",
          "data": {
            "text/html": [
              "<div>\n",
              "<style scoped>\n",
              "    .dataframe tbody tr th:only-of-type {\n",
              "        vertical-align: middle;\n",
              "    }\n",
              "\n",
              "    .dataframe tbody tr th {\n",
              "        vertical-align: top;\n",
              "    }\n",
              "\n",
              "    .dataframe thead th {\n",
              "        text-align: right;\n",
              "    }\n",
              "</style>\n",
              "<table border=\"1\" class=\"dataframe\">\n",
              "  <thead>\n",
              "    <tr style=\"text-align: right;\">\n",
              "      <th></th>\n",
              "      <th>0</th>\n",
              "      <th>1</th>\n",
              "      <th>2</th>\n",
              "      <th>3</th>\n",
              "      <th>4</th>\n",
              "    </tr>\n",
              "  </thead>\n",
              "  <tbody>\n",
              "    <tr>\n",
              "      <th>summary</th>\n",
              "      <td>count</td>\n",
              "      <td>mean</td>\n",
              "      <td>stddev</td>\n",
              "      <td>min</td>\n",
              "      <td>max</td>\n",
              "    </tr>\n",
              "    <tr>\n",
              "      <th>ID</th>\n",
              "      <td>88858</td>\n",
              "      <td>None</td>\n",
              "      <td>None</td>\n",
              "      <td>F00000001</td>\n",
              "      <td>F00155945</td>\n",
              "    </tr>\n",
              "    <tr>\n",
              "      <th>Estimated_Insects_Count</th>\n",
              "      <td>88858</td>\n",
              "      <td>1399.0122104931463</td>\n",
              "      <td>849.0487806668847</td>\n",
              "      <td>150</td>\n",
              "      <td>4097</td>\n",
              "    </tr>\n",
              "    <tr>\n",
              "      <th>Crop_Type</th>\n",
              "      <td>88858</td>\n",
              "      <td>0.2843750703369421</td>\n",
              "      <td>0.4511188091519747</td>\n",
              "      <td>0</td>\n",
              "      <td>1</td>\n",
              "    </tr>\n",
              "    <tr>\n",
              "      <th>Soil_Type</th>\n",
              "      <td>88858</td>\n",
              "      <td>0.4584167998379437</td>\n",
              "      <td>0.49827064083043343</td>\n",
              "      <td>0</td>\n",
              "      <td>1</td>\n",
              "    </tr>\n",
              "    <tr>\n",
              "      <th>Pesticide_Use_Category</th>\n",
              "      <td>88858</td>\n",
              "      <td>2.2641855544801817</td>\n",
              "      <td>0.46177158158329773</td>\n",
              "      <td>1</td>\n",
              "      <td>3</td>\n",
              "    </tr>\n",
              "    <tr>\n",
              "      <th>Number_Doses_Week</th>\n",
              "      <td>88858</td>\n",
              "      <td>25.849951608183844</td>\n",
              "      <td>15.554427765396934</td>\n",
              "      <td>0</td>\n",
              "      <td>95</td>\n",
              "    </tr>\n",
              "    <tr>\n",
              "      <th>Number_Weeks_Used</th>\n",
              "      <td>79858</td>\n",
              "      <td>28.62397004683313</td>\n",
              "      <td>12.391881462463685</td>\n",
              "      <td>0</td>\n",
              "      <td>67</td>\n",
              "    </tr>\n",
              "    <tr>\n",
              "      <th>Number_Weeks_Quit</th>\n",
              "      <td>88858</td>\n",
              "      <td>9.589986270228904</td>\n",
              "      <td>9.900631115271118</td>\n",
              "      <td>0</td>\n",
              "      <td>50</td>\n",
              "    </tr>\n",
              "    <tr>\n",
              "      <th>Season</th>\n",
              "      <td>88858</td>\n",
              "      <td>1.8969591933196785</td>\n",
              "      <td>0.701322132743697</td>\n",
              "      <td>1</td>\n",
              "      <td>3</td>\n",
              "    </tr>\n",
              "    <tr>\n",
              "      <th>Crop_Damage</th>\n",
              "      <td>88858</td>\n",
              "      <td>0.19056247045848432</td>\n",
              "      <td>0.45421506819556845</td>\n",
              "      <td>0</td>\n",
              "      <td>2</td>\n",
              "    </tr>\n",
              "  </tbody>\n",
              "</table>\n",
              "</div>"
            ],
            "text/plain": [
              "                             0                    1  ...          3          4\n",
              "summary                  count                 mean  ...        min        max\n",
              "ID                       88858                 None  ...  F00000001  F00155945\n",
              "Estimated_Insects_Count  88858   1399.0122104931463  ...        150       4097\n",
              "Crop_Type                88858   0.2843750703369421  ...          0          1\n",
              "Soil_Type                88858   0.4584167998379437  ...          0          1\n",
              "Pesticide_Use_Category   88858   2.2641855544801817  ...          1          3\n",
              "Number_Doses_Week        88858   25.849951608183844  ...          0         95\n",
              "Number_Weeks_Used        79858    28.62397004683313  ...          0         67\n",
              "Number_Weeks_Quit        88858    9.589986270228904  ...          0         50\n",
              "Season                   88858   1.8969591933196785  ...          1          3\n",
              "Crop_Damage              88858  0.19056247045848432  ...          0          2\n",
              "\n",
              "[11 rows x 5 columns]"
            ]
          },
          "metadata": {
            "tags": []
          },
          "execution_count": 165
        }
      ]
    },
    {
      "cell_type": "code",
      "metadata": {
        "id": "CqhHmDLqA_3U"
      },
      "source": [
        "columns=['ID','Estimated_Insects_Count','Crop_Type','Soil_Type','Pesticide_Use_Category','Number_Doses_Week','Number_Weeks_Used',\n",
        "         'Number_Weeks_Quit','Season','Crop_Damage']"
      ],
      "execution_count": 166,
      "outputs": []
    },
    {
      "cell_type": "code",
      "metadata": {
        "colab": {
          "base_uri": "https://localhost:8080/"
        },
        "id": "_qdtLXYzA_61",
        "outputId": "db133188-b7cc-4888-d7e0-b5e19222492d"
      },
      "source": [
        "df.toPandas()[columns].nunique()"
      ],
      "execution_count": 167,
      "outputs": [
        {
          "output_type": "execute_result",
          "data": {
            "text/plain": [
              "ID                         88858\n",
              "Estimated_Insects_Count       71\n",
              "Crop_Type                      2\n",
              "Soil_Type                      2\n",
              "Pesticide_Use_Category         3\n",
              "Number_Doses_Week             20\n",
              "Number_Weeks_Used             64\n",
              "Number_Weeks_Quit             51\n",
              "Season                         3\n",
              "Crop_Damage                    3\n",
              "dtype: int64"
            ]
          },
          "metadata": {
            "tags": []
          },
          "execution_count": 167
        }
      ]
    },
    {
      "cell_type": "code",
      "metadata": {
        "id": "ZU6iEDMwA_-I"
      },
      "source": [
        "numeric_feautres=['Estimated_Insects_Count','Number_Weeks_Used','Number_Weeks_Quit']\n",
        "\n",
        "categorical_feautres=['Crop_Type','Soil_Type','Pesticide_Use_Category','Number_Doses_Week','Season']\n",
        "\n",
        "target=['Crop_Damage']"
      ],
      "execution_count": 168,
      "outputs": []
    },
    {
      "cell_type": "code",
      "metadata": {
        "id": "tYwrCdMzBABU"
      },
      "source": [
        "numeric_data = df.select(numeric_feautres).toPandas()"
      ],
      "execution_count": 169,
      "outputs": []
    },
    {
      "cell_type": "code",
      "metadata": {
        "colab": {
          "base_uri": "https://localhost:8080/"
        },
        "id": "AOKdN6geBAE2",
        "outputId": "79c5a9f6-9b4d-4b26-bf8a-08d08ac70587"
      },
      "source": [
        "df=df.select('Estimated_Insects_Count','Crop_Type','Soil_Type','Pesticide_Use_Category','Number_Doses_Week','Number_Weeks_Used',\n",
        "         'Number_Weeks_Quit','Season','Crop_Damage')\n",
        "\n",
        "cols = df.columns\n",
        "df.printSchema()"
      ],
      "execution_count": 170,
      "outputs": [
        {
          "output_type": "stream",
          "text": [
            "root\n",
            " |-- Estimated_Insects_Count: integer (nullable = true)\n",
            " |-- Crop_Type: integer (nullable = true)\n",
            " |-- Soil_Type: integer (nullable = true)\n",
            " |-- Pesticide_Use_Category: integer (nullable = true)\n",
            " |-- Number_Doses_Week: integer (nullable = true)\n",
            " |-- Number_Weeks_Used: integer (nullable = true)\n",
            " |-- Number_Weeks_Quit: integer (nullable = true)\n",
            " |-- Season: integer (nullable = true)\n",
            " |-- Crop_Damage: integer (nullable = true)\n",
            "\n"
          ],
          "name": "stdout"
        }
      ]
    },
    {
      "cell_type": "code",
      "metadata": {
        "colab": {
          "base_uri": "https://localhost:8080/"
        },
        "id": "JwQa3My9BAIE",
        "outputId": "2f45b7fd-babd-49c6-bda8-e70c17fc9cb4"
      },
      "source": [
        "df.toPandas().isna().sum()"
      ],
      "execution_count": 171,
      "outputs": [
        {
          "output_type": "execute_result",
          "data": {
            "text/plain": [
              "Estimated_Insects_Count       0\n",
              "Crop_Type                     0\n",
              "Soil_Type                     0\n",
              "Pesticide_Use_Category        0\n",
              "Number_Doses_Week             0\n",
              "Number_Weeks_Used          9000\n",
              "Number_Weeks_Quit             0\n",
              "Season                        0\n",
              "Crop_Damage                   0\n",
              "dtype: int64"
            ]
          },
          "metadata": {
            "tags": []
          },
          "execution_count": 171
        }
      ]
    },
    {
      "cell_type": "code",
      "metadata": {
        "colab": {
          "base_uri": "https://localhost:8080/"
        },
        "id": "uFexIIRlMqfi",
        "outputId": "9c2d5c15-632f-46b1-eb9a-a0c5496b46af"
      },
      "source": [
        "df.filter(df['Number_Weeks_Used'].isNull()).count()"
      ],
      "execution_count": 172,
      "outputs": [
        {
          "output_type": "execute_result",
          "data": {
            "text/plain": [
              "9000"
            ]
          },
          "metadata": {
            "tags": []
          },
          "execution_count": 172
        }
      ]
    },
    {
      "cell_type": "code",
      "metadata": {
        "colab": {
          "base_uri": "https://localhost:8080/"
        },
        "id": "9asV5AOCMqix",
        "outputId": "ea68df4d-a61e-43b3-ad88-a382cf61b3e6"
      },
      "source": [
        "for j in ['Estimated_Insects_Count','Crop_Type','Soil_Type','Pesticide_Use_Category','Number_Doses_Week','Number_Weeks_Used','Number_Weeks_Quit']:\n",
        "    print(\"Correlation with\"+j+\" Crop_Damage\",df.corr('Crop_Damage',j))"
      ],
      "execution_count": 173,
      "outputs": [
        {
          "output_type": "stream",
          "text": [
            "Correlation withEstimated_Insects_Count Crop_Damage 0.2028883265043235\n",
            "Correlation withCrop_Type Crop_Damage -0.016494705652070066\n",
            "Correlation withSoil_Type Crop_Damage -0.021997272041923074\n",
            "Correlation withPesticide_Use_Category Crop_Damage 0.17500204470503275\n",
            "Correlation withNumber_Doses_Week Crop_Damage -0.03087425832208959\n",
            "Correlation withNumber_Weeks_Used Crop_Damage 0.1746679539287501\n",
            "Correlation withNumber_Weeks_Quit Crop_Damage -0.13311659360152783\n"
          ],
          "name": "stdout"
        }
      ]
    },
    {
      "cell_type": "code",
      "metadata": {
        "colab": {
          "base_uri": "https://localhost:8080/"
        },
        "id": "gdJwWkd5MqmD",
        "outputId": "56c16aac-076f-462c-c9f9-d840dcdd175a"
      },
      "source": [
        "df.agg({\"Number_Weeks_Used\":\"mean\"}).collect()"
      ],
      "execution_count": 174,
      "outputs": [
        {
          "output_type": "execute_result",
          "data": {
            "text/plain": [
              "[Row(avg(Number_Weeks_Used)=28.62397004683313)]"
            ]
          },
          "metadata": {
            "tags": []
          },
          "execution_count": 174
        }
      ]
    },
    {
      "cell_type": "code",
      "metadata": {
        "id": "aiNw16x2MdT8"
      },
      "source": [
        "from pyspark.sql.types import *"
      ],
      "execution_count": 95,
      "outputs": []
    },
    {
      "cell_type": "code",
      "metadata": {
        "id": "O2ZWTnNyMdXg"
      },
      "source": [
        "def convertColumn(df_string, names, newType):\n",
        "    for name in names: \n",
        "        df_string = df_string.withColumn(name, df_string[name].cast(newType))\n",
        "    return df_string"
      ],
      "execution_count": 175,
      "outputs": []
    },
    {
      "cell_type": "code",
      "metadata": {
        "id": "wRmLYU4gMdbc"
      },
      "source": [
        "categorical_feautres=['Crop_Type','Soil_Type','Pesticide_Use_Category','Number_Doses_Week','Season']\n",
        "df= convertColumn(df, categorical_feautres, FloatType())"
      ],
      "execution_count": 176,
      "outputs": []
    },
    {
      "cell_type": "code",
      "metadata": {
        "colab": {
          "base_uri": "https://localhost:8080/"
        },
        "id": "nqiCaFERPKuk",
        "outputId": "1efc9078-f88f-4991-8963-c64b0db63445"
      },
      "source": [
        "df.printSchema()\n"
      ],
      "execution_count": 177,
      "outputs": [
        {
          "output_type": "stream",
          "text": [
            "root\n",
            " |-- Estimated_Insects_Count: integer (nullable = true)\n",
            " |-- Crop_Type: float (nullable = true)\n",
            " |-- Soil_Type: float (nullable = true)\n",
            " |-- Pesticide_Use_Category: float (nullable = true)\n",
            " |-- Number_Doses_Week: float (nullable = true)\n",
            " |-- Number_Weeks_Used: integer (nullable = true)\n",
            " |-- Number_Weeks_Quit: integer (nullable = true)\n",
            " |-- Season: float (nullable = true)\n",
            " |-- Crop_Damage: integer (nullable = true)\n",
            "\n"
          ],
          "name": "stdout"
        }
      ]
    },
    {
      "cell_type": "code",
      "metadata": {
        "id": "6vckE44TMdfR"
      },
      "source": [
        "from pyspark.ml.feature import StringIndexer"
      ],
      "execution_count": 178,
      "outputs": []
    },
    {
      "cell_type": "code",
      "metadata": {
        "colab": {
          "base_uri": "https://localhost:8080/"
        },
        "id": "17vonscXBALZ",
        "outputId": "981b099d-fb82-4f60-dff0-b8b2a64547d0"
      },
      "source": [
        "df.groupBy(\"Crop_Type\").count().sort(\"count\",ascending=True).show()\t"
      ],
      "execution_count": 179,
      "outputs": [
        {
          "output_type": "stream",
          "text": [
            "+---------+-----+\n",
            "|Crop_Type|count|\n",
            "+---------+-----+\n",
            "|      1.0|25269|\n",
            "|      0.0|63589|\n",
            "+---------+-----+\n",
            "\n"
          ],
          "name": "stdout"
        }
      ]
    },
    {
      "cell_type": "code",
      "metadata": {
        "colab": {
          "base_uri": "https://localhost:8080/"
        },
        "id": "t9qXeWrIBAOk",
        "outputId": "5dbf1172-83d6-4fda-c53a-0789828fa43c"
      },
      "source": [
        "df.groupBy(\"Crop_Damage\").count().sort(\"count\",ascending=True).show()\t"
      ],
      "execution_count": 180,
      "outputs": [
        {
          "output_type": "stream",
          "text": [
            "+-----------+-----+\n",
            "|Crop_Damage|count|\n",
            "+-----------+-----+\n",
            "|          2| 2313|\n",
            "|          1|12307|\n",
            "|          0|74238|\n",
            "+-----------+-----+\n",
            "\n"
          ],
          "name": "stdout"
        }
      ]
    },
    {
      "cell_type": "code",
      "metadata": {
        "colab": {
          "base_uri": "https://localhost:8080/"
        },
        "id": "Ob9oiSrwBAR7",
        "outputId": "a2e6a22d-5788-4b9e-b8e8-1604334773a2"
      },
      "source": [
        "df.describe().show()"
      ],
      "execution_count": 102,
      "outputs": [
        {
          "output_type": "stream",
          "text": [
            "+-------+-----------------------+------------------+-------------------+----------------------+------------------+------------------+-----------------+------------------+-------------------+\n",
            "|summary|Estimated_Insects_Count|         Crop_Type|          Soil_Type|Pesticide_Use_Category| Number_Doses_Week| Number_Weeks_Used|Number_Weeks_Quit|            Season|        Crop_Damage|\n",
            "+-------+-----------------------+------------------+-------------------+----------------------+------------------+------------------+-----------------+------------------+-------------------+\n",
            "|  count|                  88858|             88858|              88858|                 88858|             88858|             79858|            88858|             88858|              88858|\n",
            "|   mean|     1399.0122104931463|0.2843750703369421| 0.4584167998379437|    2.2641855544801817|25.849951608183844| 28.62397004683313|9.589986270228904|1.8969591933196785|0.19056247045848432|\n",
            "| stddev|      849.0487806668847|0.4511188091519747|0.49827064083043343|   0.46177158158329773|15.554427765396934|12.391881462463685|9.900631115271118| 0.701322132743697|0.45421506819556845|\n",
            "|    min|                    150|               0.0|                0.0|                   1.0|               0.0|                 0|                0|               1.0|                  0|\n",
            "|    max|                   4097|               1.0|                1.0|                   3.0|              95.0|                67|               50|               3.0|                  2|\n",
            "+-------+-----------------------+------------------+-------------------+----------------------+------------------+------------------+-----------------+------------------+-------------------+\n",
            "\n"
          ],
          "name": "stdout"
        }
      ]
    },
    {
      "cell_type": "code",
      "metadata": {
        "colab": {
          "base_uri": "https://localhost:8080/"
        },
        "id": "Rfx4bAP_Rr9C",
        "outputId": "37fca210-7df8-4aa7-de29-3220e38f8ec3"
      },
      "source": [
        "df.crosstab('Number_Doses_Week', 'Crop_Damage').show()"
      ],
      "execution_count": 181,
      "outputs": [
        {
          "output_type": "stream",
          "text": [
            "+-----------------------------+-----+----+---+\n",
            "|Number_Doses_Week_Crop_Damage|    0|   1|  2|\n",
            "+-----------------------------+-----+----+---+\n",
            "|                          0.0|  118| 554|165|\n",
            "|                          5.0| 5007| 473| 40|\n",
            "|                         10.0|10422|1542|147|\n",
            "|                         25.0| 4310| 468|112|\n",
            "|                         20.0|17789|4042|758|\n",
            "|                         60.0| 3836| 435| 96|\n",
            "|                         85.0|    9|   1|  1|\n",
            "|                         70.0|  275|  21|  7|\n",
            "|                         65.0|   57|   7|  0|\n",
            "|                         45.0|  868|  55| 13|\n",
            "|                         80.0|  590|  68| 14|\n",
            "|                         35.0| 1647| 155| 30|\n",
            "|                         95.0|   28|   2|  0|\n",
            "|                         50.0| 2995| 300| 66|\n",
            "|                         40.0|10092|1797|409|\n",
            "|                         55.0|  250|  25|  2|\n",
            "|                         75.0|   56|   5|  0|\n",
            "|                         30.0| 8708|1399|331|\n",
            "|                         15.0| 7108| 950|120|\n",
            "|                         90.0|   73|   8|  2|\n",
            "+-----------------------------+-----+----+---+\n",
            "\n"
          ],
          "name": "stdout"
        }
      ]
    },
    {
      "cell_type": "code",
      "metadata": {
        "colab": {
          "base_uri": "https://localhost:8080/"
        },
        "id": "_iIkaaEZRsAS",
        "outputId": "38d114c9-66cb-45e4-cd26-0761be5ab06f"
      },
      "source": [
        "df.groupby('Crop_Damage').agg({'Number_Doses_Week': 'mean'}).show()\t"
      ],
      "execution_count": 182,
      "outputs": [
        {
          "output_type": "stream",
          "text": [
            "+-----------+----------------------+\n",
            "|Crop_Damage|avg(Number_Doses_Week)|\n",
            "+-----------+----------------------+\n",
            "|          1|    24.176078654424312|\n",
            "|          2|     26.11327280587981|\n",
            "|          0|    26.119238126027103|\n",
            "+-----------+----------------------+\n",
            "\n"
          ],
          "name": "stdout"
        }
      ]
    },
    {
      "cell_type": "code",
      "metadata": {
        "id": "fvFaNbGTUXnk"
      },
      "source": [
        "import  pyspark.sql.functions as F"
      ],
      "execution_count": 105,
      "outputs": []
    },
    {
      "cell_type": "code",
      "metadata": {
        "colab": {
          "base_uri": "https://localhost:8080/"
        },
        "id": "xE28pP_mYMaf",
        "outputId": "b0eb6319-17e1-438c-f38c-43cbb40ee47a"
      },
      "source": [
        "df.columns"
      ],
      "execution_count": 106,
      "outputs": [
        {
          "output_type": "execute_result",
          "data": {
            "text/plain": [
              "['Estimated_Insects_Count',\n",
              " 'Crop_Type',\n",
              " 'Soil_Type',\n",
              " 'Pesticide_Use_Category',\n",
              " 'Number_Doses_Week',\n",
              " 'Number_Weeks_Used',\n",
              " 'Number_Weeks_Quit',\n",
              " 'Season',\n",
              " 'Crop_Damage']"
            ]
          },
          "metadata": {
            "tags": []
          },
          "execution_count": 106
        }
      ]
    },
    {
      "cell_type": "code",
      "metadata": {
        "id": "1z1zuG5EeMna"
      },
      "source": [
        "from pyspark.sql.functions import udf,col\n",
        "from pyspark.sql.functions import col,sum,avg,max"
      ],
      "execution_count": 107,
      "outputs": []
    },
    {
      "cell_type": "code",
      "metadata": {
        "colab": {
          "base_uri": "https://localhost:8080/"
        },
        "id": "Xj3InXCZEm98",
        "outputId": "eabb9fae-d2ec-4879-fbdb-52254a3761c5"
      },
      "source": [
        "df.agg({\"Number_Weeks_Used\":\"mean\"}).collect()"
      ],
      "execution_count": 183,
      "outputs": [
        {
          "output_type": "execute_result",
          "data": {
            "text/plain": [
              "[Row(avg(Number_Weeks_Used)=28.62397004683313)]"
            ]
          },
          "metadata": {
            "tags": []
          },
          "execution_count": 183
        }
      ]
    },
    {
      "cell_type": "code",
      "metadata": {
        "id": "Ai7jxWpgEnF0"
      },
      "source": [
        "df=df.na.fill(value=28.62397004683313,subset=[\"Number_Weeks_Used\"])"
      ],
      "execution_count": 184,
      "outputs": []
    },
    {
      "cell_type": "code",
      "metadata": {
        "id": "CFVG8mmzoiBH"
      },
      "source": [
        "from pyspark.sql.functions import approx_count_distinct,collect_list\n",
        "from pyspark.sql.functions import collect_set,sum,avg,max,countDistinct,count\n",
        "from pyspark.sql.functions import first, last, kurtosis, min, mean, skewness \n",
        "from pyspark.sql.functions import stddev, stddev_samp, stddev_pop, sumDistinct\n",
        "from pyspark.sql.functions import variance,var_samp,  var_pop"
      ],
      "execution_count": 185,
      "outputs": []
    },
    {
      "cell_type": "code",
      "metadata": {
        "colab": {
          "base_uri": "https://localhost:8080/"
        },
        "id": "0biGSbMOoiJR",
        "outputId": "4c678f44-7f24-4ad7-cfb9-801ae38ae75f"
      },
      "source": [
        "df.select(kurtosis(\"Estimated_Insects_Count\")).show(truncate=False)\n",
        "df.select(max(\"Estimated_Insects_Count\")).show(truncate=False)\n",
        "df.select(min(\"Estimated_Insects_Count\")).show(truncate=False)\n",
        "df.select(mean(\"Estimated_Insects_Count\")).show(truncate=False)\n",
        "df.select(skewness(\"Estimated_Insects_Count\")).show(truncate=False)\n",
        "df.select(stddev(\"Estimated_Insects_Count\"), stddev_samp(\"Estimated_Insects_Count\"),stddev_pop(\"Estimated_Insects_Count\")).show(truncate=False)"
      ],
      "execution_count": 186,
      "outputs": [
        {
          "output_type": "stream",
          "text": [
            "+---------------------------------+\n",
            "|kurtosis(Estimated_Insects_Count)|\n",
            "+---------------------------------+\n",
            "|0.14001746588196706              |\n",
            "+---------------------------------+\n",
            "\n",
            "+----------------------------+\n",
            "|max(Estimated_Insects_Count)|\n",
            "+----------------------------+\n",
            "|4097                        |\n",
            "+----------------------------+\n",
            "\n",
            "+----------------------------+\n",
            "|min(Estimated_Insects_Count)|\n",
            "+----------------------------+\n",
            "|150                         |\n",
            "+----------------------------+\n",
            "\n",
            "+----------------------------+\n",
            "|avg(Estimated_Insects_Count)|\n",
            "+----------------------------+\n",
            "|1399.0122104931463          |\n",
            "+----------------------------+\n",
            "\n",
            "+---------------------------------+\n",
            "|skewness(Estimated_Insects_Count)|\n",
            "+---------------------------------+\n",
            "|0.8391314724409544               |\n",
            "+---------------------------------+\n",
            "\n",
            "+------------------------------------+------------------------------------+-----------------------------------+\n",
            "|stddev_samp(Estimated_Insects_Count)|stddev_samp(Estimated_Insects_Count)|stddev_pop(Estimated_Insects_Count)|\n",
            "+------------------------------------+------------------------------------+-----------------------------------+\n",
            "|849.0487806668847                   |849.0487806668847                   |849.0440030938498                  |\n",
            "+------------------------------------+------------------------------------+-----------------------------------+\n",
            "\n"
          ],
          "name": "stdout"
        }
      ]
    },
    {
      "cell_type": "code",
      "metadata": {
        "id": "96PO9NRmG8sO"
      },
      "source": [
        "cols=df.columns"
      ],
      "execution_count": 217,
      "outputs": []
    },
    {
      "cell_type": "code",
      "metadata": {
        "id": "ZLVhCLQhF4da"
      },
      "source": [
        "from pyspark.ml.feature import OneHotEncoder\n",
        "stages = []"
      ],
      "execution_count": 213,
      "outputs": []
    },
    {
      "cell_type": "code",
      "metadata": {
        "id": "_GRZ50u8F5VZ"
      },
      "source": [
        "for categoricalCol in categorical_feautres:\n",
        "  encoder = OneHotEncoder(inputCols=[categoricalCol],outputCols=[categoricalCol + \"classVec\"])\n",
        "  stages += [ encoder]"
      ],
      "execution_count": 214,
      "outputs": []
    },
    {
      "cell_type": "code",
      "metadata": {
        "id": "cBIvXCWJA8UR"
      },
      "source": [
        "from pyspark.ml.feature import  StringIndexer, VectorAssembler"
      ],
      "execution_count": 215,
      "outputs": []
    },
    {
      "cell_type": "code",
      "metadata": {
        "id": "wCIHxfbcA8XW"
      },
      "source": [
        "label_stringIdx = StringIndexer(inputCol = 'Crop_Damage', outputCol = 'label')\n",
        "stages += [label_stringIdx]\n",
        "\n",
        "assemblerInputs = categorical_feautres + numeric_feautres\n",
        "assembler = VectorAssembler(inputCols=assemblerInputs, outputCol=\"features\")\n",
        "stages += [assembler]"
      ],
      "execution_count": 216,
      "outputs": []
    },
    {
      "cell_type": "code",
      "metadata": {
        "colab": {
          "base_uri": "https://localhost:8080/"
        },
        "id": "i91Zw0qjA8an",
        "outputId": "973a8d84-c63e-4420-cd91-a3d7581b44ee"
      },
      "source": [
        "from pyspark.ml import Pipeline\n",
        "pipeline = Pipeline(stages = stages)\n",
        "pipelineModel = pipeline.fit(df)\n",
        "df = pipelineModel.transform(df)\n",
        "selectedCols = ['label', 'features'] + cols\n",
        "df = df.select(selectedCols)\n",
        "df.printSchema()"
      ],
      "execution_count": 218,
      "outputs": [
        {
          "output_type": "stream",
          "text": [
            "root\n",
            " |-- label: double (nullable = false)\n",
            " |-- features: vector (nullable = true)\n",
            " |-- Estimated_Insects_Count: integer (nullable = true)\n",
            " |-- Crop_Type: float (nullable = true)\n",
            " |-- Soil_Type: float (nullable = true)\n",
            " |-- Pesticide_Use_Category: float (nullable = true)\n",
            " |-- Number_Doses_Week: float (nullable = true)\n",
            " |-- Number_Weeks_Used: integer (nullable = true)\n",
            " |-- Number_Weeks_Quit: integer (nullable = true)\n",
            " |-- Season: float (nullable = true)\n",
            " |-- Crop_Damage: integer (nullable = true)\n",
            "\n"
          ],
          "name": "stdout"
        }
      ]
    },
    {
      "cell_type": "code",
      "metadata": {
        "colab": {
          "base_uri": "https://localhost:8080/",
          "height": 394
        },
        "id": "Zxv1DLK0HAl6",
        "outputId": "63b8e6a1-ba72-4d93-8c18-852cdb115bf0"
      },
      "source": [
        "pd.DataFrame(df.take(5), columns=df.columns).transpose()"
      ],
      "execution_count": 219,
      "outputs": [
        {
          "output_type": "execute_result",
          "data": {
            "text/html": [
              "<div>\n",
              "<style scoped>\n",
              "    .dataframe tbody tr th:only-of-type {\n",
              "        vertical-align: middle;\n",
              "    }\n",
              "\n",
              "    .dataframe tbody tr th {\n",
              "        vertical-align: top;\n",
              "    }\n",
              "\n",
              "    .dataframe thead th {\n",
              "        text-align: right;\n",
              "    }\n",
              "</style>\n",
              "<table border=\"1\" class=\"dataframe\">\n",
              "  <thead>\n",
              "    <tr style=\"text-align: right;\">\n",
              "      <th></th>\n",
              "      <th>0</th>\n",
              "      <th>1</th>\n",
              "      <th>2</th>\n",
              "      <th>3</th>\n",
              "      <th>4</th>\n",
              "    </tr>\n",
              "  </thead>\n",
              "  <tbody>\n",
              "    <tr>\n",
              "      <th>label</th>\n",
              "      <td>0</td>\n",
              "      <td>1</td>\n",
              "      <td>1</td>\n",
              "      <td>1</td>\n",
              "      <td>1</td>\n",
              "    </tr>\n",
              "    <tr>\n",
              "      <th>features</th>\n",
              "      <td>(1.0, 0.0, 1.0, 0.0, 1.0, 188.0, 0.0, 0.0)</td>\n",
              "      <td>(1.0, 0.0, 1.0, 0.0, 2.0, 209.0, 0.0, 0.0)</td>\n",
              "      <td>(1.0, 0.0, 1.0, 0.0, 2.0, 257.0, 0.0, 0.0)</td>\n",
              "      <td>[1.0, 1.0, 1.0, 0.0, 2.0, 257.0, 0.0, 0.0]</td>\n",
              "      <td>(1.0, 0.0, 1.0, 0.0, 2.0, 342.0, 0.0, 0.0)</td>\n",
              "    </tr>\n",
              "    <tr>\n",
              "      <th>Estimated_Insects_Count</th>\n",
              "      <td>188</td>\n",
              "      <td>209</td>\n",
              "      <td>257</td>\n",
              "      <td>257</td>\n",
              "      <td>342</td>\n",
              "    </tr>\n",
              "    <tr>\n",
              "      <th>Crop_Type</th>\n",
              "      <td>1</td>\n",
              "      <td>1</td>\n",
              "      <td>1</td>\n",
              "      <td>1</td>\n",
              "      <td>1</td>\n",
              "    </tr>\n",
              "    <tr>\n",
              "      <th>Soil_Type</th>\n",
              "      <td>0</td>\n",
              "      <td>0</td>\n",
              "      <td>0</td>\n",
              "      <td>1</td>\n",
              "      <td>0</td>\n",
              "    </tr>\n",
              "    <tr>\n",
              "      <th>Pesticide_Use_Category</th>\n",
              "      <td>1</td>\n",
              "      <td>1</td>\n",
              "      <td>1</td>\n",
              "      <td>1</td>\n",
              "      <td>1</td>\n",
              "    </tr>\n",
              "    <tr>\n",
              "      <th>Number_Doses_Week</th>\n",
              "      <td>0</td>\n",
              "      <td>0</td>\n",
              "      <td>0</td>\n",
              "      <td>0</td>\n",
              "      <td>0</td>\n",
              "    </tr>\n",
              "    <tr>\n",
              "      <th>Number_Weeks_Used</th>\n",
              "      <td>0</td>\n",
              "      <td>0</td>\n",
              "      <td>0</td>\n",
              "      <td>0</td>\n",
              "      <td>0</td>\n",
              "    </tr>\n",
              "    <tr>\n",
              "      <th>Number_Weeks_Quit</th>\n",
              "      <td>0</td>\n",
              "      <td>0</td>\n",
              "      <td>0</td>\n",
              "      <td>0</td>\n",
              "      <td>0</td>\n",
              "    </tr>\n",
              "    <tr>\n",
              "      <th>Season</th>\n",
              "      <td>1</td>\n",
              "      <td>2</td>\n",
              "      <td>2</td>\n",
              "      <td>2</td>\n",
              "      <td>2</td>\n",
              "    </tr>\n",
              "    <tr>\n",
              "      <th>Crop_Damage</th>\n",
              "      <td>0</td>\n",
              "      <td>1</td>\n",
              "      <td>1</td>\n",
              "      <td>1</td>\n",
              "      <td>1</td>\n",
              "    </tr>\n",
              "  </tbody>\n",
              "</table>\n",
              "</div>"
            ],
            "text/plain": [
              "                                                                  0  ...                                           4\n",
              "label                                                             0  ...                                           1\n",
              "features                 (1.0, 0.0, 1.0, 0.0, 1.0, 188.0, 0.0, 0.0)  ...  (1.0, 0.0, 1.0, 0.0, 2.0, 342.0, 0.0, 0.0)\n",
              "Estimated_Insects_Count                                         188  ...                                         342\n",
              "Crop_Type                                                         1  ...                                           1\n",
              "Soil_Type                                                         0  ...                                           0\n",
              "Pesticide_Use_Category                                            1  ...                                           1\n",
              "Number_Doses_Week                                                 0  ...                                           0\n",
              "Number_Weeks_Used                                                 0  ...                                           0\n",
              "Number_Weeks_Quit                                                 0  ...                                           0\n",
              "Season                                                            1  ...                                           2\n",
              "Crop_Damage                                                       0  ...                                           1\n",
              "\n",
              "[11 rows x 5 columns]"
            ]
          },
          "metadata": {
            "tags": []
          },
          "execution_count": 219
        }
      ]
    },
    {
      "cell_type": "code",
      "metadata": {
        "colab": {
          "base_uri": "https://localhost:8080/"
        },
        "id": "3LzeR4_4HApE",
        "outputId": "e225ac1d-bfab-4b23-b000-f8ef80298405"
      },
      "source": [
        "train, test = df.randomSplit([0.7, 0.3], seed = 2018)\n",
        "print(\"Training Dataset Count: \" + str(train.count()))\n",
        "print(\"Test Dataset Count: \" + str(test.count()))"
      ],
      "execution_count": 220,
      "outputs": [
        {
          "output_type": "stream",
          "text": [
            "Training Dataset Count: 62220\n",
            "Test Dataset Count: 26638\n"
          ],
          "name": "stdout"
        }
      ]
    },
    {
      "cell_type": "code",
      "metadata": {
        "id": "Xtcq5LvjHAsd"
      },
      "source": [
        "from pyspark.ml.classification import LogisticRegression\n",
        "\n",
        "lr = LogisticRegression(labelCol=\"label\",featuresCol=\"features\",maxIter=10,regParam=0.3)\n",
        "\n",
        "linearModel = lr.fit(train)"
      ],
      "execution_count": 221,
      "outputs": []
    },
    {
      "cell_type": "code",
      "metadata": {
        "colab": {
          "base_uri": "https://localhost:8080/"
        },
        "id": "1AdycAqZHAvy",
        "outputId": "9c24d6b5-0e90-4bfb-b093-996d6f8de92f"
      },
      "source": [
        "print(\"Coefficients: \" + str(linearModel.coefficientMatrix))\n",
        "print(\"Intercept: \" + str(linearModel.interceptVector))"
      ],
      "execution_count": 238,
      "outputs": [
        {
          "output_type": "stream",
          "text": [
            "Coefficients: DenseMatrix([[ 8.31616905e-02,  4.46522192e-02, -1.56510957e-01,\n",
            "               1.94372345e-03,  2.13775652e-02, -1.68395487e-04,\n",
            "              -5.30965470e-03,  1.13246911e-02],\n",
            "             [-7.56020827e-02, -1.56278759e-02,  1.07980910e-01,\n",
            "              -1.69270842e-03,  1.67008572e-03,  1.45141745e-04,\n",
            "               1.81917009e-03, -3.66417511e-03],\n",
            "             [-7.55960788e-03, -2.90243432e-02,  4.85300469e-02,\n",
            "              -2.51015028e-04, -2.30476509e-02,  2.32537417e-05,\n",
            "               3.49048461e-03, -7.66051594e-03]])\n",
            "Intercept: [2.273137064002961,-0.4105979919208667,-1.8625390720820942]\n"
          ],
          "name": "stdout"
        }
      ]
    },
    {
      "cell_type": "code",
      "metadata": {
        "colab": {
          "base_uri": "https://localhost:8080/"
        },
        "id": "V69aYCPvHA2Y",
        "outputId": "2a3e5f23-34e2-47ba-e471-658518c20024"
      },
      "source": [
        "predictions = linearModel.transform(test)\n",
        "predictions.printSchema()"
      ],
      "execution_count": 241,
      "outputs": [
        {
          "output_type": "stream",
          "text": [
            "root\n",
            " |-- label: double (nullable = false)\n",
            " |-- features: vector (nullable = true)\n",
            " |-- Estimated_Insects_Count: integer (nullable = true)\n",
            " |-- Crop_Type: float (nullable = true)\n",
            " |-- Soil_Type: float (nullable = true)\n",
            " |-- Pesticide_Use_Category: float (nullable = true)\n",
            " |-- Number_Doses_Week: float (nullable = true)\n",
            " |-- Number_Weeks_Used: integer (nullable = true)\n",
            " |-- Number_Weeks_Quit: integer (nullable = true)\n",
            " |-- Season: float (nullable = true)\n",
            " |-- Crop_Damage: integer (nullable = true)\n",
            " |-- rawPrediction: vector (nullable = true)\n",
            " |-- probability: vector (nullable = true)\n",
            " |-- prediction: double (nullable = false)\n",
            "\n"
          ],
          "name": "stdout"
        }
      ]
    },
    {
      "cell_type": "code",
      "metadata": {
        "colab": {
          "base_uri": "https://localhost:8080/"
        },
        "id": "fmvC4yn3HA6z",
        "outputId": "1bbe7ac4-054f-4ba0-f355-be97139b51cc"
      },
      "source": [
        "selected = predictions.select(\"label\", \"prediction\", \"probability\")\n",
        "selected.show(20)"
      ],
      "execution_count": 242,
      "outputs": [
        {
          "output_type": "stream",
          "text": [
            "+-----+----------+--------------------+\n",
            "|label|prediction|         probability|\n",
            "+-----+----------+--------------------+\n",
            "|  0.0|       0.0|[0.91179125761333...|\n",
            "|  0.0|       0.0|[0.87319801604140...|\n",
            "|  0.0|       0.0|[0.89148547400262...|\n",
            "|  0.0|       0.0|[0.88930866619271...|\n",
            "|  0.0|       0.0|[0.85656638696019...|\n",
            "|  0.0|       0.0|[0.83541858937701...|\n",
            "|  0.0|       0.0|[0.91343141109526...|\n",
            "|  0.0|       0.0|[0.90683693511043...|\n",
            "|  0.0|       0.0|[0.90511431769095...|\n",
            "|  0.0|       0.0|[0.89798068728243...|\n",
            "|  0.0|       0.0|[0.89243982463707...|\n",
            "|  0.0|       0.0|[0.87541535947928...|\n",
            "|  0.0|       0.0|[0.86257022182329...|\n",
            "|  0.0|       0.0|[0.84559795854296...|\n",
            "|  0.0|       0.0|[0.76834596441293...|\n",
            "|  0.0|       0.0|[0.88632863908758...|\n",
            "|  0.0|       0.0|[0.87126406077529...|\n",
            "|  0.0|       0.0|[0.84217706014747...|\n",
            "|  0.0|       0.0|[0.82034571057543...|\n",
            "|  0.0|       0.0|[0.86495175680557...|\n",
            "+-----+----------+--------------------+\n",
            "only showing top 20 rows\n",
            "\n"
          ],
          "name": "stdout"
        }
      ]
    },
    {
      "cell_type": "code",
      "metadata": {
        "colab": {
          "base_uri": "https://localhost:8080/"
        },
        "id": "SSPeF8ElA8eK",
        "outputId": "0cbd6ddb-724c-46cc-b469-d8aab377a22c"
      },
      "source": [
        "def accuracy_m(model): \n",
        "    predictions = model.transform(test)\n",
        "    cm = predictions.select(\"label\", \"prediction\")\n",
        "    acc = cm.filter(cm.label == cm.prediction).count() / cm.count()\n",
        "    print(\"Model accuracy: %.3f%%\" % (acc * 100)) \n",
        "accuracy_m(model = linearModel)\n"
      ],
      "execution_count": 245,
      "outputs": [
        {
          "output_type": "stream",
          "text": [
            "Model accuracy: 83.569%\n"
          ],
          "name": "stdout"
        }
      ]
    }
  ]
}