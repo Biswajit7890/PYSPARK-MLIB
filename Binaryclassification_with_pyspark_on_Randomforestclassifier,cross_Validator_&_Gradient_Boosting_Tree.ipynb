{
  "nbformat": 4,
  "nbformat_minor": 0,
  "metadata": {
    "colab": {
      "name": "Binaryclassification with pyspark on Randomforestclassifier,cross Validator & Gradient Boosting Tree.ipynb",
      "provenance": [],
      "collapsed_sections": []
    },
    "kernelspec": {
      "name": "python3",
      "display_name": "Python 3"
    },
    "language_info": {
      "name": "python"
    }
  },
  "cells": [
    {
      "cell_type": "code",
      "metadata": {
        "id": "kgLd1hlXvpwO"
      },
      "source": [
        "import pandas as pd\n",
        "import numpy as np\n",
        "import matplotlib.pyplot as plt\n",
        "import seaborn as sns\n",
        "import warnings\n",
        "warnings.filterwarnings('ignore')"
      ],
      "execution_count": 1,
      "outputs": []
    },
    {
      "cell_type": "code",
      "metadata": {
        "colab": {
          "base_uri": "https://localhost:8080/"
        },
        "id": "z8mn33_7vpzO",
        "outputId": "1c09c350-c3c6-42f8-841b-1664e5f0ece7"
      },
      "source": [
        "pip install pyspark "
      ],
      "execution_count": 2,
      "outputs": [
        {
          "output_type": "stream",
          "text": [
            "Collecting pyspark\n",
            "\u001b[?25l  Downloading https://files.pythonhosted.org/packages/45/b0/9d6860891ab14a39d4bddf80ba26ce51c2f9dc4805e5c6978ac0472c120a/pyspark-3.1.1.tar.gz (212.3MB)\n",
            "\u001b[K     |████████████████████████████████| 212.3MB 65kB/s \n",
            "\u001b[?25hCollecting py4j==0.10.9\n",
            "\u001b[?25l  Downloading https://files.pythonhosted.org/packages/9e/b6/6a4fb90cd235dc8e265a6a2067f2a2c99f0d91787f06aca4bcf7c23f3f80/py4j-0.10.9-py2.py3-none-any.whl (198kB)\n",
            "\u001b[K     |████████████████████████████████| 204kB 16.5MB/s \n",
            "\u001b[?25hBuilding wheels for collected packages: pyspark\n",
            "  Building wheel for pyspark (setup.py) ... \u001b[?25l\u001b[?25hdone\n",
            "  Created wheel for pyspark: filename=pyspark-3.1.1-py2.py3-none-any.whl size=212767604 sha256=59e477ac297d93367cd0d8159517bd48aecc616c277a775bcf3dd0a679be7924\n",
            "  Stored in directory: /root/.cache/pip/wheels/0b/90/c0/01de724414ef122bd05f056541fb6a0ecf47c7ca655f8b3c0f\n",
            "Successfully built pyspark\n",
            "Installing collected packages: py4j, pyspark\n",
            "Successfully installed py4j-0.10.9 pyspark-3.1.1\n"
          ],
          "name": "stdout"
        }
      ]
    },
    {
      "cell_type": "code",
      "metadata": {
        "colab": {
          "base_uri": "https://localhost:8080/"
        },
        "id": "HL1c0tGnvp2O",
        "outputId": "754b645b-1af7-4fa0-a190-20758fa15eda"
      },
      "source": [
        "from pyspark.sql import SparkSession\n",
        "\n",
        "spark = SparkSession.builder.appName('HR').getOrCreate()\n",
        "df = spark.read.csv('train_LZdllcl.csv', header = True, inferSchema = True)\n",
        "df.printSchema()"
      ],
      "execution_count": 2,
      "outputs": [
        {
          "output_type": "stream",
          "text": [
            "root\n",
            " |-- employee_id: integer (nullable = true)\n",
            " |-- department: string (nullable = true)\n",
            " |-- region: string (nullable = true)\n",
            " |-- education: string (nullable = true)\n",
            " |-- gender: string (nullable = true)\n",
            " |-- recruitment_channel: string (nullable = true)\n",
            " |-- no_of_trainings: integer (nullable = true)\n",
            " |-- age: integer (nullable = true)\n",
            " |-- previous_year_rating: integer (nullable = true)\n",
            " |-- length_of_service: integer (nullable = true)\n",
            " |-- KPIs_met >80%: integer (nullable = true)\n",
            " |-- awards_won?: integer (nullable = true)\n",
            " |-- avg_training_score: integer (nullable = true)\n",
            " |-- is_promoted: integer (nullable = true)\n",
            "\n"
          ],
          "name": "stdout"
        }
      ]
    },
    {
      "cell_type": "code",
      "metadata": {
        "colab": {
          "base_uri": "https://localhost:8080/"
        },
        "id": "smVA6FNZvp5W",
        "outputId": "26714a38-9da2-4a04-945a-a35148ddb8ee"
      },
      "source": [
        "df.show(10)"
      ],
      "execution_count": 3,
      "outputs": [
        {
          "output_type": "stream",
          "text": [
            "+-----------+-----------------+---------+----------------+------+-------------------+---------------+---+--------------------+-----------------+-------------+-----------+------------------+-----------+\n",
            "|employee_id|       department|   region|       education|gender|recruitment_channel|no_of_trainings|age|previous_year_rating|length_of_service|KPIs_met >80%|awards_won?|avg_training_score|is_promoted|\n",
            "+-----------+-----------------+---------+----------------+------+-------------------+---------------+---+--------------------+-----------------+-------------+-----------+------------------+-----------+\n",
            "|      65438|Sales & Marketing| region_7|Master's & above|     f|           sourcing|              1| 35|                   5|                8|            1|          0|                49|          0|\n",
            "|      65141|       Operations|region_22|      Bachelor's|     m|              other|              1| 30|                   5|                4|            0|          0|                60|          0|\n",
            "|       7513|Sales & Marketing|region_19|      Bachelor's|     m|           sourcing|              1| 34|                   3|                7|            0|          0|                50|          0|\n",
            "|       2542|Sales & Marketing|region_23|      Bachelor's|     m|              other|              2| 39|                   1|               10|            0|          0|                50|          0|\n",
            "|      48945|       Technology|region_26|      Bachelor's|     m|              other|              1| 45|                   3|                2|            0|          0|                73|          0|\n",
            "|      58896|        Analytics| region_2|      Bachelor's|     m|           sourcing|              2| 31|                   3|                7|            0|          0|                85|          0|\n",
            "|      20379|       Operations|region_20|      Bachelor's|     f|              other|              1| 31|                   3|                5|            0|          0|                59|          0|\n",
            "|      16290|       Operations|region_34|Master's & above|     m|           sourcing|              1| 33|                   3|                6|            0|          0|                63|          0|\n",
            "|      73202|        Analytics|region_20|      Bachelor's|     m|              other|              1| 28|                   4|                5|            0|          0|                83|          0|\n",
            "|      28911|Sales & Marketing| region_1|Master's & above|     m|           sourcing|              1| 32|                   5|                5|            1|          0|                54|          0|\n",
            "+-----------+-----------------+---------+----------------+------+-------------------+---------------+---+--------------------+-----------------+-------------+-----------+------------------+-----------+\n",
            "only showing top 10 rows\n",
            "\n"
          ],
          "name": "stdout"
        }
      ]
    },
    {
      "cell_type": "code",
      "metadata": {
        "id": "FTDD2FM8vp8n"
      },
      "source": [
        "df=df.drop('employee_id')"
      ],
      "execution_count": 4,
      "outputs": []
    },
    {
      "cell_type": "code",
      "metadata": {
        "colab": {
          "base_uri": "https://localhost:8080/",
          "height": 437
        },
        "id": "SQpHDRAtvp_7",
        "outputId": "d746a1d7-047e-4de2-a134-2c8c92ed8b64"
      },
      "source": [
        "pd.DataFrame(df.take(5), columns=df.columns).transpose()"
      ],
      "execution_count": 5,
      "outputs": [
        {
          "output_type": "execute_result",
          "data": {
            "text/html": [
              "<div>\n",
              "<style scoped>\n",
              "    .dataframe tbody tr th:only-of-type {\n",
              "        vertical-align: middle;\n",
              "    }\n",
              "\n",
              "    .dataframe tbody tr th {\n",
              "        vertical-align: top;\n",
              "    }\n",
              "\n",
              "    .dataframe thead th {\n",
              "        text-align: right;\n",
              "    }\n",
              "</style>\n",
              "<table border=\"1\" class=\"dataframe\">\n",
              "  <thead>\n",
              "    <tr style=\"text-align: right;\">\n",
              "      <th></th>\n",
              "      <th>0</th>\n",
              "      <th>1</th>\n",
              "      <th>2</th>\n",
              "      <th>3</th>\n",
              "      <th>4</th>\n",
              "    </tr>\n",
              "  </thead>\n",
              "  <tbody>\n",
              "    <tr>\n",
              "      <th>department</th>\n",
              "      <td>Sales &amp; Marketing</td>\n",
              "      <td>Operations</td>\n",
              "      <td>Sales &amp; Marketing</td>\n",
              "      <td>Sales &amp; Marketing</td>\n",
              "      <td>Technology</td>\n",
              "    </tr>\n",
              "    <tr>\n",
              "      <th>region</th>\n",
              "      <td>region_7</td>\n",
              "      <td>region_22</td>\n",
              "      <td>region_19</td>\n",
              "      <td>region_23</td>\n",
              "      <td>region_26</td>\n",
              "    </tr>\n",
              "    <tr>\n",
              "      <th>education</th>\n",
              "      <td>Master's &amp; above</td>\n",
              "      <td>Bachelor's</td>\n",
              "      <td>Bachelor's</td>\n",
              "      <td>Bachelor's</td>\n",
              "      <td>Bachelor's</td>\n",
              "    </tr>\n",
              "    <tr>\n",
              "      <th>gender</th>\n",
              "      <td>f</td>\n",
              "      <td>m</td>\n",
              "      <td>m</td>\n",
              "      <td>m</td>\n",
              "      <td>m</td>\n",
              "    </tr>\n",
              "    <tr>\n",
              "      <th>recruitment_channel</th>\n",
              "      <td>sourcing</td>\n",
              "      <td>other</td>\n",
              "      <td>sourcing</td>\n",
              "      <td>other</td>\n",
              "      <td>other</td>\n",
              "    </tr>\n",
              "    <tr>\n",
              "      <th>no_of_trainings</th>\n",
              "      <td>1</td>\n",
              "      <td>1</td>\n",
              "      <td>1</td>\n",
              "      <td>2</td>\n",
              "      <td>1</td>\n",
              "    </tr>\n",
              "    <tr>\n",
              "      <th>age</th>\n",
              "      <td>35</td>\n",
              "      <td>30</td>\n",
              "      <td>34</td>\n",
              "      <td>39</td>\n",
              "      <td>45</td>\n",
              "    </tr>\n",
              "    <tr>\n",
              "      <th>previous_year_rating</th>\n",
              "      <td>5</td>\n",
              "      <td>5</td>\n",
              "      <td>3</td>\n",
              "      <td>1</td>\n",
              "      <td>3</td>\n",
              "    </tr>\n",
              "    <tr>\n",
              "      <th>length_of_service</th>\n",
              "      <td>8</td>\n",
              "      <td>4</td>\n",
              "      <td>7</td>\n",
              "      <td>10</td>\n",
              "      <td>2</td>\n",
              "    </tr>\n",
              "    <tr>\n",
              "      <th>KPIs_met &gt;80%</th>\n",
              "      <td>1</td>\n",
              "      <td>0</td>\n",
              "      <td>0</td>\n",
              "      <td>0</td>\n",
              "      <td>0</td>\n",
              "    </tr>\n",
              "    <tr>\n",
              "      <th>awards_won?</th>\n",
              "      <td>0</td>\n",
              "      <td>0</td>\n",
              "      <td>0</td>\n",
              "      <td>0</td>\n",
              "      <td>0</td>\n",
              "    </tr>\n",
              "    <tr>\n",
              "      <th>avg_training_score</th>\n",
              "      <td>49</td>\n",
              "      <td>60</td>\n",
              "      <td>50</td>\n",
              "      <td>50</td>\n",
              "      <td>73</td>\n",
              "    </tr>\n",
              "    <tr>\n",
              "      <th>is_promoted</th>\n",
              "      <td>0</td>\n",
              "      <td>0</td>\n",
              "      <td>0</td>\n",
              "      <td>0</td>\n",
              "      <td>0</td>\n",
              "    </tr>\n",
              "  </tbody>\n",
              "</table>\n",
              "</div>"
            ],
            "text/plain": [
              "                                      0  ...           4\n",
              "department            Sales & Marketing  ...  Technology\n",
              "region                         region_7  ...   region_26\n",
              "education              Master's & above  ...  Bachelor's\n",
              "gender                                f  ...           m\n",
              "recruitment_channel            sourcing  ...       other\n",
              "no_of_trainings                       1  ...           1\n",
              "age                                  35  ...          45\n",
              "previous_year_rating                  5  ...           3\n",
              "length_of_service                     8  ...           2\n",
              "KPIs_met >80%                         1  ...           0\n",
              "awards_won?                           0  ...           0\n",
              "avg_training_score                   49  ...          73\n",
              "is_promoted                           0  ...           0\n",
              "\n",
              "[13 rows x 5 columns]"
            ]
          },
          "metadata": {
            "tags": []
          },
          "execution_count": 5
        }
      ]
    },
    {
      "cell_type": "code",
      "metadata": {
        "id": "IWWE5lT2zhSi"
      },
      "source": [
        "categorical_feautres=['department','region','education','gender','recruitment_channel']\n",
        "\n",
        "numerical_cat_feautres=['no_of_trainings','age','previous_year_rating','KPIs_met >80%','awards_won?']\n",
        "\n",
        "numerical_feautres=['length_of_service','avg_training_score']\n",
        "\n",
        "Target=['is_promoted']"
      ],
      "execution_count": 6,
      "outputs": []
    },
    {
      "cell_type": "code",
      "metadata": {
        "colab": {
          "base_uri": "https://localhost:8080/"
        },
        "id": "ZkWKaCtmvqC_",
        "outputId": "bb401a60-f16e-406e-9dae-56cc18a3945b"
      },
      "source": [
        "df.columns"
      ],
      "execution_count": 7,
      "outputs": [
        {
          "output_type": "execute_result",
          "data": {
            "text/plain": [
              "['department',\n",
              " 'region',\n",
              " 'education',\n",
              " 'gender',\n",
              " 'recruitment_channel',\n",
              " 'no_of_trainings',\n",
              " 'age',\n",
              " 'previous_year_rating',\n",
              " 'length_of_service',\n",
              " 'KPIs_met >80%',\n",
              " 'awards_won?',\n",
              " 'avg_training_score',\n",
              " 'is_promoted']"
            ]
          },
          "metadata": {
            "tags": []
          },
          "execution_count": 7
        }
      ]
    },
    {
      "cell_type": "code",
      "metadata": {
        "colab": {
          "base_uri": "https://localhost:8080/",
          "height": 467
        },
        "id": "DqPVUfMBvqGO",
        "outputId": "724ae51a-4fa6-4f00-c293-9fd8a6b21cf6"
      },
      "source": [
        "df.describe().toPandas().transpose()"
      ],
      "execution_count": 8,
      "outputs": [
        {
          "output_type": "execute_result",
          "data": {
            "text/html": [
              "<div>\n",
              "<style scoped>\n",
              "    .dataframe tbody tr th:only-of-type {\n",
              "        vertical-align: middle;\n",
              "    }\n",
              "\n",
              "    .dataframe tbody tr th {\n",
              "        vertical-align: top;\n",
              "    }\n",
              "\n",
              "    .dataframe thead th {\n",
              "        text-align: right;\n",
              "    }\n",
              "</style>\n",
              "<table border=\"1\" class=\"dataframe\">\n",
              "  <thead>\n",
              "    <tr style=\"text-align: right;\">\n",
              "      <th></th>\n",
              "      <th>0</th>\n",
              "      <th>1</th>\n",
              "      <th>2</th>\n",
              "      <th>3</th>\n",
              "      <th>4</th>\n",
              "    </tr>\n",
              "  </thead>\n",
              "  <tbody>\n",
              "    <tr>\n",
              "      <th>summary</th>\n",
              "      <td>count</td>\n",
              "      <td>mean</td>\n",
              "      <td>stddev</td>\n",
              "      <td>min</td>\n",
              "      <td>max</td>\n",
              "    </tr>\n",
              "    <tr>\n",
              "      <th>department</th>\n",
              "      <td>54808</td>\n",
              "      <td>None</td>\n",
              "      <td>None</td>\n",
              "      <td>Analytics</td>\n",
              "      <td>Technology</td>\n",
              "    </tr>\n",
              "    <tr>\n",
              "      <th>region</th>\n",
              "      <td>54808</td>\n",
              "      <td>None</td>\n",
              "      <td>None</td>\n",
              "      <td>region_1</td>\n",
              "      <td>region_9</td>\n",
              "    </tr>\n",
              "    <tr>\n",
              "      <th>education</th>\n",
              "      <td>52399</td>\n",
              "      <td>None</td>\n",
              "      <td>None</td>\n",
              "      <td>Bachelor's</td>\n",
              "      <td>Master's &amp; above</td>\n",
              "    </tr>\n",
              "    <tr>\n",
              "      <th>gender</th>\n",
              "      <td>54808</td>\n",
              "      <td>None</td>\n",
              "      <td>None</td>\n",
              "      <td>f</td>\n",
              "      <td>m</td>\n",
              "    </tr>\n",
              "    <tr>\n",
              "      <th>recruitment_channel</th>\n",
              "      <td>54808</td>\n",
              "      <td>None</td>\n",
              "      <td>None</td>\n",
              "      <td>other</td>\n",
              "      <td>sourcing</td>\n",
              "    </tr>\n",
              "    <tr>\n",
              "      <th>no_of_trainings</th>\n",
              "      <td>54808</td>\n",
              "      <td>1.253010509414684</td>\n",
              "      <td>0.6092640176487848</td>\n",
              "      <td>1</td>\n",
              "      <td>10</td>\n",
              "    </tr>\n",
              "    <tr>\n",
              "      <th>age</th>\n",
              "      <td>54808</td>\n",
              "      <td>34.80391548679025</td>\n",
              "      <td>7.660169201585432</td>\n",
              "      <td>20</td>\n",
              "      <td>60</td>\n",
              "    </tr>\n",
              "    <tr>\n",
              "      <th>previous_year_rating</th>\n",
              "      <td>50684</td>\n",
              "      <td>3.329255780917055</td>\n",
              "      <td>1.259992551940845</td>\n",
              "      <td>1</td>\n",
              "      <td>5</td>\n",
              "    </tr>\n",
              "    <tr>\n",
              "      <th>length_of_service</th>\n",
              "      <td>54808</td>\n",
              "      <td>5.865512333965844</td>\n",
              "      <td>4.2650941796858435</td>\n",
              "      <td>1</td>\n",
              "      <td>37</td>\n",
              "    </tr>\n",
              "    <tr>\n",
              "      <th>KPIs_met &gt;80%</th>\n",
              "      <td>54808</td>\n",
              "      <td>0.35197416435556855</td>\n",
              "      <td>0.47759031988344536</td>\n",
              "      <td>0</td>\n",
              "      <td>1</td>\n",
              "    </tr>\n",
              "    <tr>\n",
              "      <th>awards_won?</th>\n",
              "      <td>54808</td>\n",
              "      <td>0.023171799737264635</td>\n",
              "      <td>0.1504502589777512</td>\n",
              "      <td>0</td>\n",
              "      <td>1</td>\n",
              "    </tr>\n",
              "    <tr>\n",
              "      <th>avg_training_score</th>\n",
              "      <td>54808</td>\n",
              "      <td>63.38675010947307</td>\n",
              "      <td>13.371559498625551</td>\n",
              "      <td>39</td>\n",
              "      <td>99</td>\n",
              "    </tr>\n",
              "    <tr>\n",
              "      <th>is_promoted</th>\n",
              "      <td>54808</td>\n",
              "      <td>0.08517004816815063</td>\n",
              "      <td>0.27913712169547233</td>\n",
              "      <td>0</td>\n",
              "      <td>1</td>\n",
              "    </tr>\n",
              "  </tbody>\n",
              "</table>\n",
              "</div>"
            ],
            "text/plain": [
              "                          0                     1  ...           3                 4\n",
              "summary               count                  mean  ...         min               max\n",
              "department            54808                  None  ...   Analytics        Technology\n",
              "region                54808                  None  ...    region_1          region_9\n",
              "education             52399                  None  ...  Bachelor's  Master's & above\n",
              "gender                54808                  None  ...           f                 m\n",
              "recruitment_channel   54808                  None  ...       other          sourcing\n",
              "no_of_trainings       54808     1.253010509414684  ...           1                10\n",
              "age                   54808     34.80391548679025  ...          20                60\n",
              "previous_year_rating  50684     3.329255780917055  ...           1                 5\n",
              "length_of_service     54808     5.865512333965844  ...           1                37\n",
              "KPIs_met >80%         54808   0.35197416435556855  ...           0                 1\n",
              "awards_won?           54808  0.023171799737264635  ...           0                 1\n",
              "avg_training_score    54808     63.38675010947307  ...          39                99\n",
              "is_promoted           54808   0.08517004816815063  ...           0                 1\n",
              "\n",
              "[14 rows x 5 columns]"
            ]
          },
          "metadata": {
            "tags": []
          },
          "execution_count": 8
        }
      ]
    },
    {
      "cell_type": "code",
      "metadata": {
        "colab": {
          "base_uri": "https://localhost:8080/"
        },
        "id": "JI2Mh4zpx8ml",
        "outputId": "4547de9c-4f4d-4ebf-f384-f6211bb1d9e1"
      },
      "source": [
        "df.toPandas()[df.columns].nunique()"
      ],
      "execution_count": 9,
      "outputs": [
        {
          "output_type": "execute_result",
          "data": {
            "text/plain": [
              "department               9\n",
              "region                  34\n",
              "education                3\n",
              "gender                   2\n",
              "recruitment_channel      3\n",
              "no_of_trainings         10\n",
              "age                     41\n",
              "previous_year_rating     5\n",
              "length_of_service       35\n",
              "KPIs_met >80%            2\n",
              "awards_won?              2\n",
              "avg_training_score      61\n",
              "is_promoted              2\n",
              "dtype: int64"
            ]
          },
          "metadata": {
            "tags": []
          },
          "execution_count": 9
        }
      ]
    },
    {
      "cell_type": "code",
      "metadata": {
        "id": "JTkghl1ax8po"
      },
      "source": [
        "categorical_feautres=['department','region','education','gender','recruitment_channel']\n",
        "\n",
        "numerical_cat_feautres=['no_of_trainings','age','previous_year_rating','KPIs_met >80%','awards_won?']\n",
        "\n",
        "numerical_feautres=['length_of_service','avg_training_score']\n",
        "\n",
        "Target=['is_promoted']"
      ],
      "execution_count": 10,
      "outputs": []
    },
    {
      "cell_type": "code",
      "metadata": {
        "colab": {
          "base_uri": "https://localhost:8080/"
        },
        "id": "NU63xnxQx8s8",
        "outputId": "b617308f-73e5-4525-a288-6904d5ef46fb"
      },
      "source": [
        "df.toPandas().isna().sum()"
      ],
      "execution_count": 11,
      "outputs": [
        {
          "output_type": "execute_result",
          "data": {
            "text/plain": [
              "department                 0\n",
              "region                     0\n",
              "education               2409\n",
              "gender                     0\n",
              "recruitment_channel        0\n",
              "no_of_trainings            0\n",
              "age                        0\n",
              "previous_year_rating    4124\n",
              "length_of_service          0\n",
              "KPIs_met >80%              0\n",
              "awards_won?                0\n",
              "avg_training_score         0\n",
              "is_promoted                0\n",
              "dtype: int64"
            ]
          },
          "metadata": {
            "tags": []
          },
          "execution_count": 11
        }
      ]
    },
    {
      "cell_type": "code",
      "metadata": {
        "colab": {
          "base_uri": "https://localhost:8080/"
        },
        "id": "-zoaMuxZx8wJ",
        "outputId": "6c23108d-4fe7-43cc-adef-b50540b2d979"
      },
      "source": [
        "df.filter(df['education'].isNull()).count()  , df.filter(df['previous_year_rating'].isNull()).count()"
      ],
      "execution_count": 12,
      "outputs": [
        {
          "output_type": "execute_result",
          "data": {
            "text/plain": [
              "(2409, 4124)"
            ]
          },
          "metadata": {
            "tags": []
          },
          "execution_count": 12
        }
      ]
    },
    {
      "cell_type": "code",
      "metadata": {
        "id": "Y2cuKkvv-gz8"
      },
      "source": [
        "mode_edu=df.groupby(\"education\").count().orderBy(\"count\", ascending=False).first()[0]\n",
        "mode_pyr=df.groupby(\"previous_year_rating\").count().orderBy(\"count\", ascending=False).first()[0]\n"
      ],
      "execution_count": 13,
      "outputs": []
    },
    {
      "cell_type": "code",
      "metadata": {
        "colab": {
          "base_uri": "https://localhost:8080/"
        },
        "id": "kRIx3aJj-g3N",
        "outputId": "0b85465d-c1d9-4036-d726-78f403212122"
      },
      "source": [
        "mode_edu,mode_pyr"
      ],
      "execution_count": 14,
      "outputs": [
        {
          "output_type": "execute_result",
          "data": {
            "text/plain": [
              "(\"Bachelor's\", 3)"
            ]
          },
          "metadata": {
            "tags": []
          },
          "execution_count": 14
        }
      ]
    },
    {
      "cell_type": "code",
      "metadata": {
        "id": "2ktRioNP-g6i"
      },
      "source": [
        "df=df.na.fill(value=\"Bachelor's\",subset=[\"education\"])\n",
        "df=df.na.fill(value=3,subset=[\"previous_year_rating\"])"
      ],
      "execution_count": 15,
      "outputs": []
    },
    {
      "cell_type": "code",
      "metadata": {
        "id": "IaqifI3kESlS"
      },
      "source": [
        "import pyspark.sql.utils\n",
        "try: \n",
        "   for j in df_final.toPandas().columns:\n",
        "       print(\"Correlation with \"+j+\"  is_promoted\",df_final.corr('is_promoted',j))\n",
        "except pyspark.sql.utils.AnalysisException:\n",
        "      print(\"Unable to process your query dude!!\")   "
      ],
      "execution_count": null,
      "outputs": []
    },
    {
      "cell_type": "code",
      "metadata": {
        "id": "_-uAmvHEC5Xb"
      },
      "source": [
        "stages = []\n",
        "from pyspark.ml.feature import StringIndexer,OneHotEncoder,VectorAssembler\n",
        "categorical_feautres=['department','region','education','gender','recruitment_channel']\n",
        "for categoricalCol in categorical_feautres:\n",
        "    stringIndexer = StringIndexer(inputCol = categoricalCol, outputCol = categoricalCol + 'Index')\n",
        "    encoder = OneHotEncoder(inputCols=[stringIndexer.getOutputCol()], outputCols=[categoricalCol + \"classVec\"])\n",
        "    stages += [stringIndexer, encoder]\n",
        "\n",
        "label_stringIdx = StringIndexer(inputCol = 'is_promoted', outputCol = 'label')\n",
        "stages += [label_stringIdx]\n",
        "\n",
        "assemblerInputs = [c + \"classVec\" for c in categorical_feautres] + numerical_feautres + numerical_cat_feautres\n",
        "\n",
        "assembler = VectorAssembler(inputCols=assemblerInputs, outputCol=\"features\")\n",
        "stages += [assembler]"
      ],
      "execution_count": 17,
      "outputs": []
    },
    {
      "cell_type": "code",
      "metadata": {
        "id": "04jegXAsIk9U"
      },
      "source": [
        "cols=df.columns"
      ],
      "execution_count": 18,
      "outputs": []
    },
    {
      "cell_type": "code",
      "metadata": {
        "colab": {
          "base_uri": "https://localhost:8080/"
        },
        "id": "EkMOpFtL-VIh",
        "outputId": "e5358a8c-99e6-4086-fb88-92aaf9022b8a"
      },
      "source": [
        "from pyspark.ml import Pipeline\n",
        "pipeline = Pipeline(stages = stages)\n",
        "pipelineModel = pipeline.fit(df)\n",
        "df_vec = pipelineModel.transform(df)\n",
        "selectedCols = ['label', 'features'] + cols\n",
        "df_vec = df_vec.select(selectedCols)\n",
        "df_vec.printSchema()\n",
        "\n"
      ],
      "execution_count": 19,
      "outputs": [
        {
          "output_type": "stream",
          "text": [
            "root\n",
            " |-- label: double (nullable = false)\n",
            " |-- features: vector (nullable = true)\n",
            " |-- department: string (nullable = true)\n",
            " |-- region: string (nullable = true)\n",
            " |-- education: string (nullable = false)\n",
            " |-- gender: string (nullable = true)\n",
            " |-- recruitment_channel: string (nullable = true)\n",
            " |-- no_of_trainings: integer (nullable = true)\n",
            " |-- age: integer (nullable = true)\n",
            " |-- previous_year_rating: integer (nullable = true)\n",
            " |-- length_of_service: integer (nullable = true)\n",
            " |-- KPIs_met >80%: integer (nullable = true)\n",
            " |-- awards_won?: integer (nullable = true)\n",
            " |-- avg_training_score: integer (nullable = true)\n",
            " |-- is_promoted: integer (nullable = true)\n",
            "\n"
          ],
          "name": "stdout"
        }
      ]
    },
    {
      "cell_type": "code",
      "metadata": {
        "colab": {
          "base_uri": "https://localhost:8080/",
          "height": 437
        },
        "id": "f1i-M_Ox-VMP",
        "outputId": "c0089b01-ac95-4382-f19f-79c9a5e9efa7"
      },
      "source": [
        "pd.DataFrame(df.take(5), columns=df.columns).transpose()"
      ],
      "execution_count": 20,
      "outputs": [
        {
          "output_type": "execute_result",
          "data": {
            "text/html": [
              "<div>\n",
              "<style scoped>\n",
              "    .dataframe tbody tr th:only-of-type {\n",
              "        vertical-align: middle;\n",
              "    }\n",
              "\n",
              "    .dataframe tbody tr th {\n",
              "        vertical-align: top;\n",
              "    }\n",
              "\n",
              "    .dataframe thead th {\n",
              "        text-align: right;\n",
              "    }\n",
              "</style>\n",
              "<table border=\"1\" class=\"dataframe\">\n",
              "  <thead>\n",
              "    <tr style=\"text-align: right;\">\n",
              "      <th></th>\n",
              "      <th>0</th>\n",
              "      <th>1</th>\n",
              "      <th>2</th>\n",
              "      <th>3</th>\n",
              "      <th>4</th>\n",
              "    </tr>\n",
              "  </thead>\n",
              "  <tbody>\n",
              "    <tr>\n",
              "      <th>department</th>\n",
              "      <td>Sales &amp; Marketing</td>\n",
              "      <td>Operations</td>\n",
              "      <td>Sales &amp; Marketing</td>\n",
              "      <td>Sales &amp; Marketing</td>\n",
              "      <td>Technology</td>\n",
              "    </tr>\n",
              "    <tr>\n",
              "      <th>region</th>\n",
              "      <td>region_7</td>\n",
              "      <td>region_22</td>\n",
              "      <td>region_19</td>\n",
              "      <td>region_23</td>\n",
              "      <td>region_26</td>\n",
              "    </tr>\n",
              "    <tr>\n",
              "      <th>education</th>\n",
              "      <td>Master's &amp; above</td>\n",
              "      <td>Bachelor's</td>\n",
              "      <td>Bachelor's</td>\n",
              "      <td>Bachelor's</td>\n",
              "      <td>Bachelor's</td>\n",
              "    </tr>\n",
              "    <tr>\n",
              "      <th>gender</th>\n",
              "      <td>f</td>\n",
              "      <td>m</td>\n",
              "      <td>m</td>\n",
              "      <td>m</td>\n",
              "      <td>m</td>\n",
              "    </tr>\n",
              "    <tr>\n",
              "      <th>recruitment_channel</th>\n",
              "      <td>sourcing</td>\n",
              "      <td>other</td>\n",
              "      <td>sourcing</td>\n",
              "      <td>other</td>\n",
              "      <td>other</td>\n",
              "    </tr>\n",
              "    <tr>\n",
              "      <th>no_of_trainings</th>\n",
              "      <td>1</td>\n",
              "      <td>1</td>\n",
              "      <td>1</td>\n",
              "      <td>2</td>\n",
              "      <td>1</td>\n",
              "    </tr>\n",
              "    <tr>\n",
              "      <th>age</th>\n",
              "      <td>35</td>\n",
              "      <td>30</td>\n",
              "      <td>34</td>\n",
              "      <td>39</td>\n",
              "      <td>45</td>\n",
              "    </tr>\n",
              "    <tr>\n",
              "      <th>previous_year_rating</th>\n",
              "      <td>5</td>\n",
              "      <td>5</td>\n",
              "      <td>3</td>\n",
              "      <td>1</td>\n",
              "      <td>3</td>\n",
              "    </tr>\n",
              "    <tr>\n",
              "      <th>length_of_service</th>\n",
              "      <td>8</td>\n",
              "      <td>4</td>\n",
              "      <td>7</td>\n",
              "      <td>10</td>\n",
              "      <td>2</td>\n",
              "    </tr>\n",
              "    <tr>\n",
              "      <th>KPIs_met &gt;80%</th>\n",
              "      <td>1</td>\n",
              "      <td>0</td>\n",
              "      <td>0</td>\n",
              "      <td>0</td>\n",
              "      <td>0</td>\n",
              "    </tr>\n",
              "    <tr>\n",
              "      <th>awards_won?</th>\n",
              "      <td>0</td>\n",
              "      <td>0</td>\n",
              "      <td>0</td>\n",
              "      <td>0</td>\n",
              "      <td>0</td>\n",
              "    </tr>\n",
              "    <tr>\n",
              "      <th>avg_training_score</th>\n",
              "      <td>49</td>\n",
              "      <td>60</td>\n",
              "      <td>50</td>\n",
              "      <td>50</td>\n",
              "      <td>73</td>\n",
              "    </tr>\n",
              "    <tr>\n",
              "      <th>is_promoted</th>\n",
              "      <td>0</td>\n",
              "      <td>0</td>\n",
              "      <td>0</td>\n",
              "      <td>0</td>\n",
              "      <td>0</td>\n",
              "    </tr>\n",
              "  </tbody>\n",
              "</table>\n",
              "</div>"
            ],
            "text/plain": [
              "                                      0  ...           4\n",
              "department            Sales & Marketing  ...  Technology\n",
              "region                         region_7  ...   region_26\n",
              "education              Master's & above  ...  Bachelor's\n",
              "gender                                f  ...           m\n",
              "recruitment_channel            sourcing  ...       other\n",
              "no_of_trainings                       1  ...           1\n",
              "age                                  35  ...          45\n",
              "previous_year_rating                  5  ...           3\n",
              "length_of_service                     8  ...           2\n",
              "KPIs_met >80%                         1  ...           0\n",
              "awards_won?                           0  ...           0\n",
              "avg_training_score                   49  ...          73\n",
              "is_promoted                           0  ...           0\n",
              "\n",
              "[13 rows x 5 columns]"
            ]
          },
          "metadata": {
            "tags": []
          },
          "execution_count": 20
        }
      ]
    },
    {
      "cell_type": "code",
      "metadata": {
        "colab": {
          "base_uri": "https://localhost:8080/"
        },
        "id": "10_gzJToIyaU",
        "outputId": "29c419e4-e32b-4c61-a763-b7f722d1375a"
      },
      "source": [
        "train, test = df_vec.randomSplit([0.7, 0.3], seed = 2018)\n",
        "print(\"Training Dataset Count: \" + str(train.count()))\n",
        "print(\"Test Dataset Count: \" + str(test.count()))"
      ],
      "execution_count": 23,
      "outputs": [
        {
          "output_type": "stream",
          "text": [
            "Training Dataset Count: 38407\n",
            "Test Dataset Count: 16401\n"
          ],
          "name": "stdout"
        }
      ]
    },
    {
      "cell_type": "code",
      "metadata": {
        "colab": {
          "base_uri": "https://localhost:8080/"
        },
        "id": "4MWttBtuIydd",
        "outputId": "a8df6eeb-bfed-4b36-81f3-a232bb486883"
      },
      "source": [
        "from pyspark.ml.classification import RandomForestClassifier\n",
        "rf = RandomForestClassifier(featuresCol = 'features', labelCol = 'label',maxDepth=5, impurity='gini')\n",
        "rfModel = rf.fit(train)\n",
        "predictions = rfModel.transform(test)\n",
        "predictions.select( 'label', 'rawPrediction', 'prediction', 'probability').show(10)"
      ],
      "execution_count": 26,
      "outputs": [
        {
          "output_type": "stream",
          "text": [
            "+-----+--------------------+----------+--------------------+\n",
            "|label|       rawPrediction|prediction|         probability|\n",
            "+-----+--------------------+----------+--------------------+\n",
            "|  0.0|[18.8514773708260...|       0.0|[0.94257386854130...|\n",
            "|  0.0|[18.8693954148972...|       0.0|[0.94346977074486...|\n",
            "|  0.0|[18.8693954148972...|       0.0|[0.94346977074486...|\n",
            "|  0.0|[18.8514773708260...|       0.0|[0.94257386854130...|\n",
            "|  0.0|[18.8514773708260...|       0.0|[0.94257386854130...|\n",
            "|  0.0|[18.8514773708260...|       0.0|[0.94257386854130...|\n",
            "|  0.0|[18.8693954148972...|       0.0|[0.94346977074486...|\n",
            "|  0.0|[18.8514773708260...|       0.0|[0.94257386854130...|\n",
            "|  0.0|[18.8514773708260...|       0.0|[0.94257386854130...|\n",
            "|  0.0|[18.8514773708260...|       0.0|[0.94257386854130...|\n",
            "+-----+--------------------+----------+--------------------+\n",
            "only showing top 10 rows\n",
            "\n"
          ],
          "name": "stdout"
        }
      ]
    },
    {
      "cell_type": "code",
      "metadata": {
        "colab": {
          "base_uri": "https://localhost:8080/"
        },
        "id": "euVD8eTlLTns",
        "outputId": "74c946d9-7c22-45e0-9349-c3c71c2c2d2a"
      },
      "source": [
        "from pyspark.ml.evaluation import BinaryClassificationEvaluator\n",
        "evaluator = BinaryClassificationEvaluator()\n",
        "print(\"Test Area Under ROC: \" + str(evaluator.evaluate(predictions, {evaluator.metricName: \"areaUnderROC\"})))"
      ],
      "execution_count": 28,
      "outputs": [
        {
          "output_type": "stream",
          "text": [
            "Test Area Under ROC: 0.8351257649425928\n"
          ],
          "name": "stdout"
        }
      ]
    },
    {
      "cell_type": "code",
      "metadata": {
        "colab": {
          "base_uri": "https://localhost:8080/"
        },
        "id": "uHOZvBtGIygk",
        "outputId": "993fdd77-57df-47d7-9ac3-abd645e1c23e"
      },
      "source": [
        "from pyspark.ml.classification import GBTClassifier\n",
        "gbt = GBTClassifier(maxIter=10,)\n",
        "gbtModel = gbt.fit(train)\n",
        "predictions = gbtModel.transform(test)\n",
        "predictions.select( 'label', 'rawPrediction', 'prediction', 'probability').show(10)"
      ],
      "execution_count": 29,
      "outputs": [
        {
          "output_type": "stream",
          "text": [
            "+-----+--------------------+----------+--------------------+\n",
            "|label|       rawPrediction|prediction|         probability|\n",
            "+-----+--------------------+----------+--------------------+\n",
            "|  0.0|[1.32033491990410...|       0.0|[0.93343359721933...|\n",
            "|  0.0|[1.32033491990410...|       0.0|[0.93343359721933...|\n",
            "|  0.0|[1.32033491990410...|       0.0|[0.93343359721933...|\n",
            "|  0.0|[1.32033491990410...|       0.0|[0.93343359721933...|\n",
            "|  0.0|[1.32033491990410...|       0.0|[0.93343359721933...|\n",
            "|  0.0|[1.32033491990410...|       0.0|[0.93343359721933...|\n",
            "|  0.0|[1.32033491990410...|       0.0|[0.93343359721933...|\n",
            "|  0.0|[1.32033491990410...|       0.0|[0.93343359721933...|\n",
            "|  0.0|[1.32033491990410...|       0.0|[0.93343359721933...|\n",
            "|  0.0|[1.32033491990410...|       0.0|[0.93343359721933...|\n",
            "+-----+--------------------+----------+--------------------+\n",
            "only showing top 10 rows\n",
            "\n"
          ],
          "name": "stdout"
        }
      ]
    },
    {
      "cell_type": "code",
      "metadata": {
        "colab": {
          "base_uri": "https://localhost:8080/"
        },
        "id": "rs6eHWmeMHzd",
        "outputId": "c202c7e0-989f-4370-b684-2a734b7995e7"
      },
      "source": [
        "gbtModel.featureImportances"
      ],
      "execution_count": 40,
      "outputs": [
        {
          "output_type": "execute_result",
          "data": {
            "text/plain": [
              "SparseVector(53, {0: 0.227, 1: 0.1039, 2: 0.0479, 3: 0.0083, 4: 0.0128, 5: 0.0456, 6: 0.0214, 8: 0.0004, 9: 0.0006, 10: 0.0029, 15: 0.0033, 16: 0.0003, 20: 0.0021, 21: 0.0013, 23: 0.0001, 25: 0.0008, 26: 0.001, 27: 0.0006, 31: 0.0004, 41: 0.0002, 43: 0.0014, 44: 0.0004, 46: 0.017, 47: 0.2983, 48: 0.0021, 49: 0.0134, 50: 0.0232, 51: 0.1229, 52: 0.0405})"
            ]
          },
          "metadata": {
            "tags": []
          },
          "execution_count": 40
        }
      ]
    },
    {
      "cell_type": "code",
      "metadata": {
        "colab": {
          "base_uri": "https://localhost:8080/"
        },
        "id": "htGUc3ddL06D",
        "outputId": "e1c4e3f0-bc7f-4428-cc49-7cc1cbc5e545"
      },
      "source": [
        "print(gbt.explainParams())"
      ],
      "execution_count": 30,
      "outputs": [
        {
          "output_type": "stream",
          "text": [
            "cacheNodeIds: If false, the algorithm will pass trees to executors to match instances with nodes. If true, the algorithm will cache node IDs for each instance. Caching can speed up training of deeper trees. Users can set how often should the cache be checkpointed or disable it by setting checkpointInterval. (default: False)\n",
            "checkpointInterval: set checkpoint interval (>= 1) or disable checkpoint (-1). E.g. 10 means that the cache will get checkpointed every 10 iterations. Note: this setting will be ignored if the checkpoint directory is not set in the SparkContext. (default: 10)\n",
            "featureSubsetStrategy: The number of features to consider for splits at each tree node. Supported options: 'auto' (choose automatically for task: If numTrees == 1, set to 'all'. If numTrees > 1 (forest), set to 'sqrt' for classification and to 'onethird' for regression), 'all' (use all features), 'onethird' (use 1/3 of the features), 'sqrt' (use sqrt(number of features)), 'log2' (use log2(number of features)), 'n' (when n is in the range (0, 1.0], use n * number of features. When n is in the range (1, number of features), use n features). default = 'auto' (default: all)\n",
            "featuresCol: features column name. (default: features)\n",
            "impurity: Criterion used for information gain calculation (case-insensitive). Supported options: variance (default: variance)\n",
            "labelCol: label column name. (default: label)\n",
            "leafCol: Leaf indices column name. Predicted leaf index of each instance in each tree by preorder. (default: )\n",
            "lossType: Loss function which GBT tries to minimize (case-insensitive). Supported options: logistic (default: logistic)\n",
            "maxBins: Max number of bins for discretizing continuous features.  Must be >=2 and >= number of categories for any categorical feature. (default: 32)\n",
            "maxDepth: Maximum depth of the tree. (>= 0) E.g., depth 0 means 1 leaf node; depth 1 means 1 internal node + 2 leaf nodes. (default: 5)\n",
            "maxIter: max number of iterations (>= 0). (default: 20, current: 10)\n",
            "maxMemoryInMB: Maximum memory in MB allocated to histogram aggregation. If too small, then 1 node will be split per iteration, and its aggregates may exceed this size. (default: 256)\n",
            "minInfoGain: Minimum information gain for a split to be considered at a tree node. (default: 0.0)\n",
            "minInstancesPerNode: Minimum number of instances each child must have after split. If a split causes the left or right child to have fewer than minInstancesPerNode, the split will be discarded as invalid. Should be >= 1. (default: 1)\n",
            "minWeightFractionPerNode: Minimum fraction of the weighted sample count that each child must have after split. If a split causes the fraction of the total weight in the left or right child to be less than minWeightFractionPerNode, the split will be discarded as invalid. Should be in interval [0.0, 0.5). (default: 0.0)\n",
            "predictionCol: prediction column name. (default: prediction)\n",
            "probabilityCol: Column name for predicted class conditional probabilities. Note: Not all models output well-calibrated probability estimates! These probabilities should be treated as confidences, not precise probabilities. (default: probability)\n",
            "rawPredictionCol: raw prediction (a.k.a. confidence) column name. (default: rawPrediction)\n",
            "seed: random seed. (default: -8119290345736220968)\n",
            "stepSize: Step size (a.k.a. learning rate) in interval (0, 1] for shrinking the contribution of each estimator. (default: 0.1)\n",
            "subsamplingRate: Fraction of the training data used for learning each decision tree, in range (0, 1]. (default: 1.0)\n",
            "thresholds: Thresholds in multi-class classification to adjust the probability of predicting each class. Array must have length equal to the number of classes, with values > 0, excepting that at most one value may be 0. The class with largest value p/t is predicted, where p is the original probability of that class and t is the class's threshold. (undefined)\n",
            "validationIndicatorCol: name of the column that indicates whether each row is for training or for validation. False indicates training; true indicates validation. (undefined)\n",
            "validationTol: Threshold for stopping early when fit with validation is used. If the error rate on the validation input changes by less than the validationTol, then learning will stop early (before `maxIter`). This parameter is ignored when fit without validation is used. (default: 0.01)\n",
            "weightCol: weight column name. If this is not set or empty, we treat all instance weights as 1.0. (undefined)\n"
          ],
          "name": "stdout"
        }
      ]
    },
    {
      "cell_type": "code",
      "metadata": {
        "colab": {
          "base_uri": "https://localhost:8080/"
        },
        "id": "eXqx5432Iyjv",
        "outputId": "d9d5f186-da5b-4350-d938-0375c2975bb3"
      },
      "source": [
        "evaluator = BinaryClassificationEvaluator()\n",
        "print(\"Test Area Under ROC: \" + str(evaluator.evaluate(predictions, {evaluator.metricName: \"areaUnderROC\"})))"
      ],
      "execution_count": 31,
      "outputs": [
        {
          "output_type": "stream",
          "text": [
            "Test Area Under ROC: 0.8955473567961648\n"
          ],
          "name": "stdout"
        }
      ]
    },
    {
      "cell_type": "code",
      "metadata": {
        "colab": {
          "base_uri": "https://localhost:8080/"
        },
        "id": "pATugQ-C-VPA",
        "outputId": "dcc157c8-24d1-4ec9-b8f8-b56963669c3a"
      },
      "source": [
        "from pyspark.ml.tuning import ParamGridBuilder, CrossValidator\n",
        "paramGrid = (ParamGridBuilder()\n",
        "             .addGrid(gbt.maxDepth, [2, 4, 6])\n",
        "             .addGrid(gbt.maxBins, [20, 60])\n",
        "             .addGrid(gbt.maxIter, [10, 20])\n",
        "             .build())\n",
        "cv = CrossValidator(estimator=gbt, estimatorParamMaps=paramGrid, evaluator=evaluator, numFolds=5)\n",
        "cvModel = cv.fit(train)\n",
        "predictions = cvModel.transform(test)\n",
        "evaluator.evaluate(predictions)"
      ],
      "execution_count": 38,
      "outputs": [
        {
          "output_type": "execute_result",
          "data": {
            "text/plain": [
              "0.9052997769459541"
            ]
          },
          "metadata": {
            "tags": []
          },
          "execution_count": 38
        }
      ]
    },
    {
      "cell_type": "code",
      "metadata": {
        "id": "uYAi8Wmv-VSK"
      },
      "source": [
        ""
      ],
      "execution_count": null,
      "outputs": []
    },
    {
      "cell_type": "code",
      "metadata": {
        "id": "9zVi-6js-VUl"
      },
      "source": [
        ""
      ],
      "execution_count": null,
      "outputs": []
    }
  ]
}